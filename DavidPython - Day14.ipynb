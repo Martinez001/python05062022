{
 "cells": [
  {
   "cell_type": "markdown",
   "metadata": {},
   "source": [
    "ERROR HANDLING"
   ]
  },
  {
   "cell_type": "code",
   "execution_count": null,
   "metadata": {},
   "outputs": [],
   "source": [
    "#Error Handling\n",
    "#try\n",
    "#except\n",
    "#else\n",
    "#finally"
   ]
  },
  {
   "cell_type": "code",
   "execution_count": 6,
   "metadata": {},
   "outputs": [
    {
     "name": "stdout",
     "output_type": "stream",
     "text": [
      "Please provide the first number:i\n",
      "You have encountered one or more errors\n"
     ]
    }
   ],
   "source": [
    "try:\n",
    "    num1 = int(input('Please provide the first number:'))\n",
    "    num2 = int(input('Please provide the second number:'))\n",
    "    print(num1 + num2)\n",
    "    print(num1.upper())\n",
    "\n",
    "except:\n",
    "    print('You have encountered one or more errors')"
   ]
  },
  {
   "cell_type": "code",
   "execution_count": 16,
   "metadata": {},
   "outputs": [
    {
     "name": "stdout",
     "output_type": "stream",
     "text": [
      "Please provide the first number:9\n",
      "Please provide the second number:7\n",
      "16\n"
     ]
    }
   ],
   "source": [
    "try:\n",
    "    num1 = int(input('Please provide the first number:'))\n",
    "    num2 = int(input('Please provide the second number:'))\n",
    "    print(num1 + num2)\n",
    "   \n",
    "except ValueError:\n",
    "    print('Wrong value provided')\n",
    "except AttributeError:\n",
    "    print('Wrong function on integer attribute')\n",
    "except:\n",
    "    print('You have encountered one or more errors')"
   ]
  },
  {
   "cell_type": "code",
   "execution_count": 17,
   "metadata": {},
   "outputs": [
    {
     "name": "stdout",
     "output_type": "stream",
     "text": [
      "Please provide the first number:7\n",
      "Please provide the second number:9\n",
      "16\n",
      "40353607\n"
     ]
    }
   ],
   "source": [
    "try:\n",
    "    num1 = int(input('Please provide the first number:'))\n",
    "    num2 = int(input('Please provide the second number:'))\n",
    "    print(num1 + num2)\n",
    "    \n",
    "except ValueError:\n",
    "    print('Wrong value provided')\n",
    "except AttributeError:\n",
    "    print('Wrong function on integer attribute')\n",
    "except:\n",
    "    print('You have encountered one or more errors')\n",
    "else:\n",
    "    print(num1 ** num2) # the else block will run if there is no error in the try code block"
   ]
  },
  {
   "cell_type": "code",
   "execution_count": 18,
   "metadata": {},
   "outputs": [
    {
     "name": "stdout",
     "output_type": "stream",
     "text": [
      "Please provide the first number:7\n",
      "Please provide the second number:9\n",
      "16\n",
      "40353607\n",
      "End of program\n"
     ]
    }
   ],
   "source": [
    "try:\n",
    "    num1 = int(input('Please provide the first number:'))\n",
    "    num2 = int(input('Please provide the second number:'))\n",
    "    print(num1 + num2)\n",
    "    \n",
    "except ValueError:\n",
    "    print('Wrong value provided')\n",
    "except AttributeError:\n",
    "    print('Wrong function on integer attribute')\n",
    "except:\n",
    "    print('You have encountered one or more errors')\n",
    "else:\n",
    "    print(num1 ** num2) # the else block will run if there is no error in the try code block\n",
    "finally:\n",
    "    print('End of program') # the finally code block will always run whether there is error or not"
   ]
  },
  {
   "cell_type": "markdown",
   "metadata": {},
   "source": [
    "# Exercise\n",
    "# Using error handling write a simple calculator given the user the liberty to\n",
    "# Choose which operation they want to perform handling the following errors\n",
    "# TyperErrors, ValueErrors,AttributeError,EOFError,ZeroDivisonError and all other errors\n",
    "# Under the else block write a condition to check if the both numbers are even number or odd number\n",
    "# Or one is even and the other is odd\n",
    "# Under finally print a statement that says \"HEY IT'S INTERESTING TO BE A PROGRAMMER END OF PROGRAM!!!\"\n",
    "# 5 Marks"
   ]
  },
  {
   "cell_type": "code",
   "execution_count": 40,
   "metadata": {},
   "outputs": [
    {
     "name": "stdout",
     "output_type": "stream",
     "text": [
      "Please provide the first number:8\n",
      "Please provide the second number:8\n",
      " choose your operation\n",
      "+: Addition\n",
      "-: Subtraction\n",
      "/: Division\n",
      "*: Multiplication\n",
      "+\n",
      "8 + 8 = 16\n",
      "Both the value of num1 and num2 are Even number\n",
      "HEY IT'S INTERESTING TO BE A PROGRAMMER.. END OF PROGRAMM!!!!\n"
     ]
    }
   ],
   "source": [
    "try:\n",
    "    num1 = int(input('Please provide the first number:'))\n",
    "    num2 = int(input('Please provide the second number:'))\n",
    "    choice = input(''' choose your operation\n",
    "+: Addition\n",
    "-: Subtraction\n",
    "/: Division\n",
    "*: Multiplication\n",
    "''')\n",
    "    \n",
    "    if choice == '+':\n",
    "        print(f'{num1} + {num2} = {num1 + num2}')\n",
    "    elif choice == '-':\n",
    "        print(f'{num1} - {num2} = {num1 - num2}')\n",
    "    elif choice == '/':\n",
    "        print(f'{num1} / {num2} = {num1 / num2}')\n",
    "    elif choice == '*':\n",
    "        print(f'{num1} * {num2} = {num1 * num2}')\n",
    "              \n",
    "except TypeError:\n",
    "    print('Invalid Data Type operation')\n",
    "except ValueError:\n",
    "    print('Wrong value provided')\n",
    "except AttributeError:\n",
    "    print('Wrong function on integer attribute')\n",
    "except EOFError:\n",
    "    print('One of the bracket is missing')\n",
    "except ZeroDivisionError:\n",
    "    print('The number cannot be divisible by Zero')\n",
    "except:\n",
    "    print('You have encountered one or more errors')\n",
    "else:\n",
    "    if num1 % 2 == 0 and num2 % 2 == 0:\n",
    "        print('Both the value of num1 and num2 are Even number')\n",
    "    elif num1 % 2 != 0 and num2 % 2 != 0:\n",
    "        print('Both the value of num1 and num2 are Odd number')\n",
    "    elif num1 % 2 != 0 and num2 % 2 == 0:\n",
    "        print('The value of num1 is an Odd number while the value of num2 is an Even number')\n",
    "    elif num1 % 2 == 0 and num2 % 2 != 0:\n",
    "        print('The value of num1 is an Even number while the value of num2 is an Odd number')\n",
    "finally:\n",
    "    print('HEY IT\\'S INTERESTING TO BE A PROGRAMMER.. END OF PROGRAMM!!!!')"
   ]
  },
  {
   "cell_type": "code",
   "execution_count": null,
   "metadata": {},
   "outputs": [],
   "source": []
  }
 ],
 "metadata": {
  "kernelspec": {
   "display_name": "Python 3",
   "language": "python",
   "name": "python3"
  },
  "language_info": {
   "codemirror_mode": {
    "name": "ipython",
    "version": 3
   },
   "file_extension": ".py",
   "mimetype": "text/x-python",
   "name": "python",
   "nbconvert_exporter": "python",
   "pygments_lexer": "ipython3",
   "version": "3.8.5"
  }
 },
 "nbformat": 4,
 "nbformat_minor": 4
}
