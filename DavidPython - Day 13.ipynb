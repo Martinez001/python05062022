{
 "cells": [
  {
   "cell_type": "code",
   "execution_count": 3,
   "metadata": {},
   "outputs": [
    {
     "name": "stdout",
     "output_type": "stream",
     "text": [
      "Mammal\n"
     ]
    }
   ],
   "source": [
    "class dog:\n",
    "    attr1 = 'Mammal' # attribute defines the class - features # method defines the function of the class - behaviours\n",
    "    attr2 = 'Bark'\n",
    "obj = dog()\n",
    "print(obj.attr1)"
   ]
  },
  {
   "cell_type": "code",
   "execution_count": 8,
   "metadata": {},
   "outputs": [
    {
     "name": "stdout",
     "output_type": "stream",
     "text": [
      "Rocky belongs to the family of Mammal\n"
     ]
    }
   ],
   "source": [
    "class dog:\n",
    "    attr1 = 'Mammal' # attribute defines the class # method defines the function of the class\n",
    "    attr2 = 'Bark'\n",
    "    \n",
    "    def family(self):\n",
    "        print(f'Rocky belongs to the family of {self.attr1}')\n",
    "obj = dog()\n",
    "obj.family()"
   ]
  },
  {
   "cell_type": "raw",
   "metadata": {},
   "source": [
    "class car_simulation_game:\n",
    "    def __init__(self,Brand,Model,Color,Year,Speed):\n",
    "        self.Brand = Brand\n",
    "        self.Model = Model\n",
    "        self.Color = Color\n",
    "        self.Year = Year\n",
    "        self.Speed = Speed\n",
    "        \n",
    "    def start(self):\n",
    "        print(f'{self.Model} {self.Brand} has started')\n",
    "        \n",
    "    def gear(self):\n",
    "        option = input('Please choose your Gear')\n",
    "        if option == '1':\n",
    "            print('Gear has been changed to 1')\n",
    "        elif option == '2':\n",
    "            print('Gear has been changed to 2')\n",
    "        elif option == '3':\n",
    "            print('Gear has been changed to 3')\n",
    "        elif option == '4':\n",
    "            print('Gear has been changed to 4')\n",
    "        elif option == '5':\n",
    "            print('Gear has been changed to 5')\n",
    "        elif option == 'R':\n",
    "            print('Gear has been changed to Reserve')\n",
    "            \n",
    "    def nitro(self):\n",
    "        option = input('Please choose enter 1 to engage your nitro or 2 to disengage your nitro')\n",
    "        if option == '1':\n",
    "            print('Nitro Engaged')\n",
    "        elif option == '2':\n",
    "            print('Nitro Disengaged')\n",
    "    def stop(self):\n",
    "        print(f'{self.Model} {self.Brand} has stopped!! GAME OVER!!!!!')\n",
    "        \n",
    "car1 = car_simulation_game('Lamborghini','Mercilado','Black',2020,351)\n",
    "print(car1.start())\n",
    "print(car1.gear())\n",
    "print(car1.nitro())\n",
    "print(car1.stop())"
   ]
  },
  {
   "cell_type": "code",
   "execution_count": 12,
   "metadata": {},
   "outputs": [
    {
     "name": "stdout",
     "output_type": "stream",
     "text": [
      "ML Benz Mercedes has started\n",
      "None\n",
      "Please choose your Gear1\n",
      "Gear has been changed to 1\n",
      "None\n",
      "Please choose enter 1 to engage your nitro or 2 to disengage your nitro2\n",
      "Nitro Disengaged\n",
      "None\n",
      "ML Benz Mercedes has stopped!! GAME OVER!!!!!\n",
      "None\n"
     ]
    }
   ],
   "source": [
    "class F12(car_simulation_game):\n",
    "    def openroof(self):\n",
    "        option = input('1 to open roof or 2 to close roof')\n",
    "        if option == '1':\n",
    "            print('Roof Open')\n",
    "        elif option == '2':\n",
    "            print('Roof Closed')\n",
    "\n",
    "car2 = F12('Mercedes','ML Benz','Black',2022,400)\n",
    "print(car2.start())\n",
    "print(car2.gear())\n",
    "print(car2.nitro())\n",
    "print(car2.stop())"
   ]
  },
  {
   "cell_type": "code",
   "execution_count": 17,
   "metadata": {},
   "outputs": [
    {
     "name": "stdout",
     "output_type": "stream",
     "text": [
      "1 for Jump or 2 for Roll Under2\n",
      "Roll Under\n",
      "None\n",
      "low for Normal Jump or high for Power Jumplow\n",
      "Normal Jump\n",
      "None\n",
      "small for Kick or big for Blowsmall\n",
      "Kick\n",
      "None\n",
      "SL to direction right or SR to direction leftSL\n",
      "direction right\n",
      "None\n"
     ]
    }
   ],
   "source": [
    "class sonic:\n",
    "    def __init__(self,Name,Colour,Characteristics1,Characteristics2,Characteristics3):\n",
    "        self.Name = Name\n",
    "        self.Colour = Colour\n",
    "        self.Characteristics1 = Characteristics1\n",
    "        self.Characteristics2 = Characteristics2\n",
    "        self.Characteristics3 = Characteristics3\n",
    "        \n",
    "    def obstacle1(self):\n",
    "        option = input('1 for Jump or 2 for Roll Under')\n",
    "        if option == '1':\n",
    "            print('Jump')\n",
    "        elif option == '2':\n",
    "            print('Roll Under')\n",
    "        \n",
    "    def obstacle2(self):\n",
    "        option = input('low for Normal Jump or high for Power Jump')\n",
    "        if option == 'low':\n",
    "            print('Normal Jump')\n",
    "        elif option == 'high':\n",
    "            print('Power Jump')\n",
    "            \n",
    "    def obstacle3(self):\n",
    "        option = input('small for Kick or big for Blow')\n",
    "        if option == 'small':\n",
    "            print('Kick')\n",
    "        elif option == 'Big':\n",
    "            print('Blow')\n",
    "            \n",
    "    def direction(self):\n",
    "        option = input('SL to direction right or SR to direction left')\n",
    "        if option == 'SL':\n",
    "            print('direction right')\n",
    "        elif option == 'SR':\n",
    "            print('direction left')\n",
    "        else:\n",
    "            print('Move straight forward')\n",
    "\n",
    "game = sonic('Sonic','Yello','Wise','Rich','Humble')\n",
    "print(game.obstacle1())\n",
    "print(game.obstacle2())\n",
    "print(game.obstacle3())\n",
    "print(game.direction())"
   ]
  }
 ],
 "metadata": {
  "kernelspec": {
   "display_name": "Python 3",
   "language": "python",
   "name": "python3"
  },
  "language_info": {
   "codemirror_mode": {
    "name": "ipython",
    "version": 3
   },
   "file_extension": ".py",
   "mimetype": "text/x-python",
   "name": "python",
   "nbconvert_exporter": "python",
   "pygments_lexer": "ipython3",
   "version": "3.8.5"
  }
 },
 "nbformat": 4,
 "nbformat_minor": 4
}
