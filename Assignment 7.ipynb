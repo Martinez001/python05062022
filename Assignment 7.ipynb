{
 "cells": [
  {
   "cell_type": "code",
   "execution_count": 2,
   "metadata": {},
   "outputs": [
    {
     "name": "stdout",
     "output_type": "stream",
     "text": [
      "please create a password: Ftt5\n",
      "password lenght must be at least eight characters\n"
     ]
    }
   ],
   "source": [
    "import string\n",
    "password= input('please create a password: ')\n",
    "spc=['<','>','#','@','$','%','^','&','*',';']\n",
    "if not any(word.isupper() for word in password):\n",
    "    print('password must have at least one upper case')\n",
    "elif not any(word.islower() for word in password):\n",
    "    print('password must have at least one lower case')\n",
    "elif not any(word.isdigit() for word in password):\n",
    "    print('password must have at least one digit')\n",
    "elif len(password) < 8:\n",
    "    print('password lenght must be at least eight characters')\n",
    "elif not any(char in spc for char in password):\n",
    "    print('password must have at least one special character')\n",
    "else:\n",
    "    print('welcome, your password is set')"
   ]
  },
  {
   "cell_type": "code",
   "execution_count": 6,
   "metadata": {},
   "outputs": [
    {
     "name": "stdout",
     "output_type": "stream",
     "text": [
      "['junior312', 'junior990', 'junior647', 'junior1398', 'junior761', 'junior1673', 'junior1370', 'junior1987', 'junior762', 'junior1179', 'junior263', 'junior817', 'junior1366', 'junior1022', 'junior485', 'junior767', 'junior266', 'junior1584', 'junior886', 'junior409', 'junior1366', 'junior653', 'junior513', 'junior644', 'junior1298', 'junior1877', 'junior273', 'junior1974', 'junior1780', 'junior512', 'junior876', 'junior1915', 'junior1804', 'junior1790', 'junior920', 'junior1009', 'junior1452', 'junior1463', 'junior1865', 'junior1549', 'junior268', 'junior371', 'junior1061', 'junior1348', 'junior1976', 'junior117', 'junior1660', 'junior1161', 'junior1094', 'junior1996', 'junior1697', 'junior1866', 'junior1598', 'junior897', 'junior1820', 'junior1740', 'junior1187', 'junior695', 'junior1203', 'junior1634', 'junior339', 'junior789', 'junior689', 'junior532', 'junior394', 'junior1936', 'junior434', 'junior289', 'junior916', 'junior1943', 'junior128', 'junior1727', 'junior1157', 'junior717', 'junior1657', 'junior246', 'junior1207', 'junior948', 'junior1760', 'junior1871', 'junior1283', 'junior1485', 'junior1380', 'junior1909', 'junior1719', 'junior1471', 'junior1991', 'junior1062', 'junior1999', 'junior1625', 'junior1435', 'junior748', 'junior1608', 'junior1750', 'junior1647', 'junior1944', 'junior891', 'junior142', 'junior1484', 'junior296', 'junior839', 'junior1248', 'junior263', 'junior201', 'junior1613', 'junior710', 'junior1005', 'junior462', 'junior427', 'junior1642', 'junior158', 'junior107', 'junior1263', 'junior973', 'junior1265', 'junior258', 'junior1204', 'junior1555', 'junior1422', 'junior1819', 'junior1745', 'junior1135', 'junior963', 'junior261', 'junior1245', 'junior506', 'junior426', 'junior1284', 'junior929', 'junior1920', 'junior392', 'junior1579', 'junior1996', 'junior835', 'junior916', 'junior507', 'junior375', 'junior1946', 'junior898', 'junior1360', 'junior1456', 'junior1748', 'junior796', 'junior251', 'junior1969', 'junior1396', 'junior1873', 'junior1851', 'junior255', 'junior747', 'junior182', 'junior749', 'junior1276', 'junior1627', 'junior1937', 'junior334', 'junior277', 'junior893', 'junior316', 'junior718', 'junior800', 'junior1336', 'junior669', 'junior1302', 'junior1885', 'junior1326', 'junior1082', 'junior470', 'junior1582', 'junior238', 'junior215', 'junior557', 'junior1837', 'junior629', 'junior442', 'junior1821', 'junior722', 'junior1990', 'junior1161', 'junior1400', 'junior906', 'junior1388', 'junior689', 'junior1051', 'junior1239', 'junior1961', 'junior579', 'junior1252', 'junior760', 'junior1741', 'junior1204', 'junior1622', 'junior771', 'junior937', 'junior1807', 'junior176', 'junior531', 'junior558', 'junior1993', 'junior1793', 'junior1473', 'junior1177', 'junior1371', 'junior1898', 'junior1217', 'junior323', 'junior1658', 'junior1987', 'junior145', 'junior471', 'junior661', 'junior1452', 'junior1993', 'junior422', 'junior1565', 'junior1637', 'junior1590', 'junior601', 'junior242', 'junior1354', 'junior558', 'junior419', 'junior1432', 'junior842', 'junior869', 'junior1858', 'junior1995', 'junior1275', 'junior1628', 'junior1568', 'junior1910', 'junior167', 'junior609', 'junior1980', 'junior1638', 'junior310', 'junior742', 'junior445', 'junior1894', 'junior105', 'junior1651', 'junior688', 'junior1150', 'junior1697', 'junior840', 'junior1669', 'junior536', 'junior672', 'junior323', 'junior840', 'junior1481', 'junior509', 'junior1410', 'junior797', 'junior1665', 'junior922', 'junior485', 'junior1545', 'junior883', 'junior1467', 'junior1615', 'junior902', 'junior825', 'junior1909', 'junior259', 'junior533', 'junior989', 'junior334', 'junior902', 'junior143', 'junior1740', 'junior1500', 'junior1118', 'junior1934', 'junior1205', 'junior1178', 'junior218', 'junior1668', 'junior1704', 'junior1647', 'junior242', 'junior631', 'junior1883', 'junior980', 'junior2000', 'junior1149', 'junior217', 'junior1221', 'junior414', 'junior1264', 'junior853', 'junior151', 'junior529', 'junior1776', 'junior1315', 'junior345', 'junior802', 'junior1883', 'junior887', 'junior279', 'junior1581', 'junior1194', 'junior1773', 'junior1431', 'junior1759', 'junior1424', 'junior839', 'junior1944', 'junior180', 'junior252', 'junior1466', 'junior927', 'junior1964', 'junior1005', 'junior546', 'junior1728', 'junior699', 'junior1030', 'junior226', 'junior661', 'junior1244', 'junior1452', 'junior202', 'junior238', 'junior264', 'junior1510', 'junior1951', 'junior718', 'junior1868', 'junior1150', 'junior508', 'junior1314', 'junior647', 'junior1307', 'junior539', 'junior312', 'junior819', 'junior1422', 'junior361', 'junior1271', 'junior1788', 'junior1815', 'junior307', 'junior854', 'junior1091', 'junior1069', 'junior1262', 'junior1521', 'junior1704', 'junior1718', 'junior406', 'junior1123', 'junior719', 'junior260', 'junior1122', 'junior1024', 'junior1420', 'junior230', 'junior537', 'junior796', 'junior1559', 'junior1720', 'junior455', 'junior758', 'junior1185', 'junior1161', 'junior1293', 'junior585', 'junior1630', 'junior709', 'junior720', 'junior1083', 'junior1377', 'junior1701', 'junior1764', 'junior105', 'junior1566', 'junior160', 'junior1930', 'junior481', 'junior137', 'junior572', 'junior1627', 'junior220', 'junior1561', 'junior456', 'junior1808', 'junior342', 'junior1503', 'junior361', 'junior1142', 'junior1966', 'junior1437', 'junior356', 'junior1477', 'junior1458', 'junior530', 'junior964', 'junior172', 'junior809', 'junior379', 'junior679', 'junior940', 'junior1894', 'junior1134', 'junior919', 'junior229', 'junior1897', 'junior695', 'junior854', 'junior1897', 'junior228', 'junior1325', 'junior950', 'junior968', 'junior1471', 'junior1339', 'junior1836', 'junior1157', 'junior120', 'junior580', 'junior1852', 'junior835', 'junior1843', 'junior1687', 'junior898', 'junior302', 'junior1195', 'junior1531', 'junior949', 'junior297', 'junior1954', 'junior1675', 'junior1487', 'junior909', 'junior362', 'junior904', 'junior1071', 'junior121', 'junior756', 'junior1349', 'junior376', 'junior707', 'junior1655', 'junior1366', 'junior1539', 'junior209', 'junior1666', 'junior1403', 'junior708', 'junior380', 'junior1657', 'junior1274', 'junior1440', 'junior211', 'junior989', 'junior661', 'junior834', 'junior1486', 'junior1227', 'junior544', 'junior1281', 'junior1459', 'junior202', 'junior522', 'junior639', 'junior518', 'junior1757', 'junior1595', 'junior1407', 'junior317', 'junior1407', 'junior1526', 'junior393', 'junior859', 'junior701', 'junior337', 'junior442', 'junior1895', 'junior1264', 'junior1997', 'junior713', 'junior627', 'junior1837', 'junior535', 'junior773', 'junior599', 'junior1424', 'junior207', 'junior1492', 'junior105', 'junior510', 'junior1908', 'junior811', 'junior1882', 'junior138', 'junior1396', 'junior172', 'junior222', 'junior1113']\n"
     ]
    }
   ],
   "source": [
    "import random as rn\n",
    "jrn='junior'\n",
    "itm='intermediate'\n",
    "srn='senior'\n",
    "li=[]\n",
    "counter=1\n",
    "while counter <=500:\n",
    "    n=rn.randint(100,2001)\n",
    "    strn=str(n)\n",
    "    li.append(jrn + strn)\n",
    "    li.append(itm + strn)\n",
    "    li.append(srn + strn)\n",
    "    counter +=1\n",
    "    \n",
    "junior_staff = list(filter(lambda x: x.startswith('junior'),li))\n",
    "print(junior_staff)"
   ]
  },
  {
   "cell_type": "code",
   "execution_count": null,
   "metadata": {},
   "outputs": [],
   "source": []
  }
 ],
 "metadata": {
  "kernelspec": {
   "display_name": "Python 3",
   "language": "python",
   "name": "python3"
  },
  "language_info": {
   "codemirror_mode": {
    "name": "ipython",
    "version": 3
   },
   "file_extension": ".py",
   "mimetype": "text/x-python",
   "name": "python",
   "nbconvert_exporter": "python",
   "pygments_lexer": "ipython3",
   "version": "3.8.5"
  }
 },
 "nbformat": 4,
 "nbformat_minor": 4
}
