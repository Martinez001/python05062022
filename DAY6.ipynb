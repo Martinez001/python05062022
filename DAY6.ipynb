{
 "cells": [
  {
   "cell_type": "markdown",
   "metadata": {},
   "source": [
    "# FUNCTIONS\n",
    "## 1. bUILT IN\n",
    "## 2. USER DEFINED\n",
    "## 3. ANONYMOUS"
   ]
  },
  {
   "cell_type": "code",
   "execution_count": 1,
   "metadata": {},
   "outputs": [
    {
     "name": "stdout",
     "output_type": "stream",
     "text": [
      "welcome to python class\n",
      "None\n"
     ]
    }
   ],
   "source": [
    "def greet(): # function without a parameter or argument\n",
    "    print('welcome to python class')\n",
    "print(greet())"
   ]
  },
  {
   "cell_type": "code",
   "execution_count": 3,
   "metadata": {},
   "outputs": [
    {
     "name": "stdout",
     "output_type": "stream",
     "text": [
      "welcome to python class simeon\n",
      "None\n"
     ]
    }
   ],
   "source": [
    "def greet2(name): # function with a single parameter or argument\n",
    "    print(f'welcome to python class {name}')\n",
    "print(greet2('simeon'))"
   ]
  },
  {
   "cell_type": "code",
   "execution_count": 4,
   "metadata": {},
   "outputs": [
    {
     "name": "stdout",
     "output_type": "stream",
     "text": [
      "welcome to python class Ade\n"
     ]
    }
   ],
   "source": [
    "greet2('Ade')"
   ]
  },
  {
   "cell_type": "code",
   "execution_count": 7,
   "metadata": {},
   "outputs": [
    {
     "name": "stdout",
     "output_type": "stream",
     "text": [
      "CANDIDATE DETAILS\n",
      "    Name:Simeon Taiwo\n",
      "    Gender:Male\n",
      "    Age:28\n",
      "    \n",
      "congratulations you are eligible to vote\n"
     ]
    }
   ],
   "source": [
    "def person(name,gender,age):\n",
    "    print(f'''CANDIDATE DETAILS\n",
    "    Name:{name}\n",
    "    Gender:{gender}\n",
    "    Age:{age}\n",
    "    ''')\n",
    "    if age > 18:\n",
    "        print('congratulations you are eligible to vote')\n",
    "    else:\n",
    "            print('OOPS sorry you are below the required age, you are not eligible to vote')\n",
    "person('Simeon Taiwo','Male',28)"
   ]
  },
  {
   "cell_type": "code",
   "execution_count": 9,
   "metadata": {},
   "outputs": [
    {
     "name": "stdout",
     "output_type": "stream",
     "text": [
      "CANDIDATE DETAILS\n",
      "    Name:Simeon Taiwo\n",
      "    Gender:Male\n",
      "    Age:18\n",
      "    \n",
      "congratulations you are eligible to vote\n"
     ]
    }
   ],
   "source": [
    "def vote(name,gender,age=18):\n",
    "    print(f'''CANDIDATE DETAILS\n",
    "    Name:{name}\n",
    "    Gender:{gender}\n",
    "    Age:{age}\n",
    "    ''')\n",
    "    if age >=18:\n",
    "        print('congratulations you are eligible to vote')\n",
    "    else:\n",
    "            print('OOPS sorry you are below the required age, you are not eligible to vote')\n",
    "vote('Simeon Taiwo','Male')"
   ]
  },
  {
   "cell_type": "code",
   "execution_count": 11,
   "metadata": {},
   "outputs": [
    {
     "name": "stdout",
     "output_type": "stream",
     "text": [
      "Math score:90\n",
      "English score:80\n",
      "Chemistry score:70\n",
      "Biology score:80\n",
      "Physics score:70\n",
      "Your average score in 5 subjects is 78.0 your grade is A\n"
     ]
    }
   ],
   "source": [
    "def gradingsystem():\n",
    "    score1=int(input('Math score:'))\n",
    "    score2=int(input('English score:'))\n",
    "    score3=int(input('Chemistry score:'))\n",
    "    score4=int(input('Biology score:'))\n",
    "    score5=int(input('Physics score:'))\n",
    "\n",
    "    avgscore= (score1 + score2 + score3 + score4 + score5)/5\n",
    "\n",
    "    if avgscore >= 70 and avgscore <= 100:\n",
    "        print(f'Your average score in 5 subjects is {avgscore} your grade is A')\n",
    "    elif avgscore >= 60 and avgscore <= 69.99:\n",
    "        print(f'Your average score in 5 subjects is {avgscore} your grade is B')\n",
    "    elif avgscore >=55 and avgscore <=59.99:\n",
    "        print(f'Your average score in 5 subjects is {avgscore} your grade is C')\n",
    "    elif avgscore >= 50 and avgscore <=54.99:\n",
    "        print(f'Your average score in 5 subjects is {avgscore} your grade is D')\n",
    "    elif avgscore >= 40 and avgscore <=49.99:\n",
    "        print(f'Your average score in 5 subjects is {avgscore} your grade is E')\n",
    "    else:\n",
    "        print(f'your average score in 5 subjects is {avgscore} your grade is F')\n",
    "gradingsystem()"
   ]
  },
  {
   "cell_type": "markdown",
   "metadata": {},
   "source": [
    "## write a function to find the max of three numbers"
   ]
  },
  {
   "cell_type": "code",
   "execution_count": 20,
   "metadata": {},
   "outputs": [],
   "source": [
    "def maxnumber():\n",
    "    num1= input('please enter the first number')\n",
    "    num2= input('please enter the second number')\n",
    "    num3= input('please enter the third number')\n",
    "    if num1 > num2 and num1 > num3:\n",
    "        print('The first number is the max')\n",
    "    elif num2 > num1 and num2 > num3:\n",
    "        print('The second number is the max')\n",
    "    else:\n",
    "        print('The third number is the max')"
   ]
  },
  {
   "cell_type": "code",
   "execution_count": 21,
   "metadata": {},
   "outputs": [
    {
     "name": "stdout",
     "output_type": "stream",
     "text": [
      "please enter the first number30\n",
      "please enter the second number40\n",
      "please enter the third number70\n",
      "The third number is the max\n"
     ]
    }
   ],
   "source": [
    "maxnumber()"
   ]
  },
  {
   "cell_type": "markdown",
   "metadata": {},
   "source": [
    "# write a function to find if a given year is a leapyear"
   ]
  },
  {
   "cell_type": "code",
   "execution_count": 32,
   "metadata": {},
   "outputs": [],
   "source": [
    "def check_leap_year():\n",
    "    year= int(input('kindly enter year of interest:'))\n",
    "    if (year % 400 ==0) and (year % 100==0):\n",
    "              print(f'{year}is a leap year')\n",
    "    elif(year % 4 ==0) and (year % 100 !=0):\n",
    "              print(f'{year} is a leap year')\n",
    "    else:\n",
    "              print(f'{year} is not a leap year')"
   ]
  },
  {
   "cell_type": "code",
   "execution_count": 34,
   "metadata": {},
   "outputs": [
    {
     "name": "stdout",
     "output_type": "stream",
     "text": [
      "kindly enter year of interest:2025\n",
      "2025 is not a leap year\n"
     ]
    }
   ],
   "source": [
    "check_leap_year()"
   ]
  },
  {
   "cell_type": "code",
   "execution_count": 37,
   "metadata": {},
   "outputs": [
    {
     "name": "stdout",
     "output_type": "stream",
     "text": [
      "<class 'tuple'>\n",
      "59.06666666666667\n"
     ]
    }
   ],
   "source": [
    "import statistics as st\n",
    "def average(*args):\n",
    "    print(type(args))\n",
    "    print(st.mean(args))\n",
    "average(85,45,89,10,25,80,95,90,78,45,14,26,59,87,58)"
   ]
  },
  {
   "cell_type": "code",
   "execution_count": 40,
   "metadata": {},
   "outputs": [
    {
     "name": "stdout",
     "output_type": "stream",
     "text": [
      "<class 'dict'>\n",
      "Name : Ojo\n",
      "Gender : Male\n",
      "Age : 30\n"
     ]
    }
   ],
   "source": [
    "def details(**kwargs):\n",
    "    print(type(kwargs))\n",
    "    for key,value in kwargs.items():\n",
    "        print(key, ':', value)\n",
    "details(Name='Ojo',Gender = 'Male',Age = 30)"
   ]
  },
  {
   "cell_type": "code",
   "execution_count": null,
   "metadata": {},
   "outputs": [],
   "source": []
  }
 ],
 "metadata": {
  "kernelspec": {
   "display_name": "Python 3",
   "language": "python",
   "name": "python3"
  },
  "language_info": {
   "codemirror_mode": {
    "name": "ipython",
    "version": 3
   },
   "file_extension": ".py",
   "mimetype": "text/x-python",
   "name": "python",
   "nbconvert_exporter": "python",
   "pygments_lexer": "ipython3",
   "version": "3.8.5"
  }
 },
 "nbformat": 4,
 "nbformat_minor": 4
}
