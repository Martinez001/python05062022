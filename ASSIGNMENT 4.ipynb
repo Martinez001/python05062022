{
 "cells": [
  {
   "cell_type": "markdown",
   "metadata": {},
   "source": [
    "## ASSIGNMENT"
   ]
  },
  {
   "cell_type": "code",
   "execution_count": 4,
   "metadata": {},
   "outputs": [
    {
     "name": "stdout",
     "output_type": "stream",
     "text": [
      "enter your current salary:100000\n",
      "years of employment:3\n",
      "your years of employment is under 5years, you are ineligible for bonus\n"
     ]
    }
   ],
   "source": [
    "curtslry= float(input('enter your current salary:'))\n",
    "yserv= int(input('years of employment:'))\n",
    "bonus=5/100*curtslry\n",
    "netpay= (bonus+curtslry)\n",
    "if yserv >=5:\n",
    "    print(f'your bonus is {bonus} Thanks')\n",
    "    print(f'your net pay is {netpay}')\n",
    "else:\n",
    "    print('your years of employment is under 5years, you are ineligible for bonus')"
   ]
  },
  {
   "cell_type": "markdown",
   "metadata": {},
   "source": [
    "# 2"
   ]
  },
  {
   "cell_type": "code",
   "execution_count": 4,
   "metadata": {},
   "outputs": [
    {
     "name": "stdout",
     "output_type": "stream",
     "text": [
      "Chioma please enter your score:75\n",
      "chioma,your score is 75\n",
      "Tolu please enter your score:46\n",
      "Tolu,your score is 46\n",
      "chioma score is 75 and it is greater than Tolu score\n"
     ]
    }
   ],
   "source": [
    "chioma_score = int(input('Chioma please enter your score:'))\n",
    "print(f'chioma,your score is {chioma_score}')\n",
    "\n",
    "Tolu_score=int(input('Tolu please enter your score:'))\n",
    "print(f'Tolu,your score is {Tolu_score}')\n",
    "if chioma_score > Tolu_score:\n",
    "    print(f'chioma score is {chioma_score} and it is greater than Tolu score')\n",
    "else:\n",
    "    print(f'Tolu score is {Tolu_score} and it is greater than chioma score')"
   ]
  },
  {
   "cell_type": "markdown",
   "metadata": {},
   "source": [
    "# 3"
   ]
  },
  {
   "cell_type": "code",
   "execution_count": 18,
   "metadata": {},
   "outputs": [
    {
     "name": "stdout",
     "output_type": "stream",
     "text": [
      "user1,please enter your age:66\n",
      "user2,please enter your age:44\n",
      "user3,please enter your age:22\n",
      "user1 is the oldest\n",
      "user3 is the youngest\n"
     ]
    }
   ],
   "source": [
    "user1 = int(input('user1,please enter your age:'))\n",
    "user2 = int(input('user2,please enter your age:'))\n",
    "user3 = int(input('user3,please enter your age:'))\n",
    "if user1 > user2 and user1 > user3:\n",
    "    print('user1 is the oldest')\n",
    "if user2 > user1 and user2 > user3:\n",
    "    print('user2 is the oldest')\n",
    "elif user3 > user1 and user3 > user2:\n",
    "    print('user3 is the oldest')\n",
    "\n",
    "if user1 < user2 and user1 < user3:\n",
    "    print('user1 is the youngest')\n",
    "if user2 < user1 and user2 < user3:\n",
    "    print('user2 is the youngest')\n",
    "else:\n",
    "    print('user3 is the youngest')"
   ]
  },
  {
   "cell_type": "code",
   "execution_count": null,
   "metadata": {},
   "outputs": [],
   "source": []
  }
 ],
 "metadata": {
  "kernelspec": {
   "display_name": "Python 3",
   "language": "python",
   "name": "python3"
  },
  "language_info": {
   "codemirror_mode": {
    "name": "ipython",
    "version": 3
   },
   "file_extension": ".py",
   "mimetype": "text/x-python",
   "name": "python",
   "nbconvert_exporter": "python",
   "pygments_lexer": "ipython3",
   "version": "3.8.5"
  }
 },
 "nbformat": 4,
 "nbformat_minor": 4
}
