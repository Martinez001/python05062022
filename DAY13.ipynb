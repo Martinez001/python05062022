{
 "cells": [
  {
   "cell_type": "markdown",
   "metadata": {},
   "source": [
    "# CLASS"
   ]
  },
  {
   "cell_type": "markdown",
   "metadata": {},
   "source": [
    "## attribute defines the class while method defines the function of the class "
   ]
  },
  {
   "cell_type": "code",
   "execution_count": 1,
   "metadata": {},
   "outputs": [
    {
     "data": {
      "text/plain": [
       "'Mammal'"
      ]
     },
     "execution_count": 1,
     "metadata": {},
     "output_type": "execute_result"
    }
   ],
   "source": [
    "class dog:\n",
    "    attr1= 'Mammal'\n",
    "    attr2= 'bark'\n",
    "obj = dog()\n",
    "obj.attr1"
   ]
  },
  {
   "cell_type": "code",
   "execution_count": 2,
   "metadata": {},
   "outputs": [
    {
     "name": "stdout",
     "output_type": "stream",
     "text": [
      "Rocky belongs to the famly of Mammal\n"
     ]
    }
   ],
   "source": [
    "class dog:\n",
    "    attr1= 'Mammal'\n",
    "    attr2= 'bark'\n",
    "    \n",
    "    def family(self):\n",
    "        print(f'Rocky belongs to the famly of {self.attr1}')\n",
    "obj = dog()\n",
    "obj.family()"
   ]
  },
  {
   "cell_type": "code",
   "execution_count": 7,
   "metadata": {},
   "outputs": [
    {
     "name": "stdout",
     "output_type": "stream",
     "text": [
      "Mercilado Lamborghini has started\n",
      "None\n",
      "please put your gear3\n",
      "Gear has been changed to 3\n",
      "None\n",
      "please choose enter 1 to engage your nitro or 2 to disengage your nitro2\n",
      "Nitro Disengaged\n",
      "None\n",
      "Mercilado Lamborghini has stopped Game over !!!!!!!!!!!!!!!!\n",
      "None\n"
     ]
    }
   ],
   "source": [
    "class car_simulation_game:\n",
    "    def  __init__(self,Brand,Model,Color,Year,Speed):\n",
    "        self.Brand = Brand\n",
    "        self.Model = Model\n",
    "        self.color = Color\n",
    "        self.Year = Year\n",
    "        self.speed = Speed\n",
    "        \n",
    "    def start(self):\n",
    "            print(f'{self.Model} {self.Brand} has started')\n",
    "            \n",
    "    def gear(self):\n",
    "            option = input('please put your gear')\n",
    "            if option == '1':\n",
    "                print('Gear has been changed to 1')\n",
    "            elif option == '2':\n",
    "                print('Gear has been changed to 2')\n",
    "            elif option =='3':\n",
    "                print('Gear has been changed to 3')\n",
    "            elif option =='4':\n",
    "                print('Gear has been changed to 4')\n",
    "            elif option =='5':\n",
    "                print('Gear has been changed to 5')\n",
    "            elif option =='R':\n",
    "                print('Gear has been changed put on Reverse')\n",
    "    def nitro(self):\n",
    "            option = input('please choose enter 1 to engage your nitro or 2 to disengage your nitro')\n",
    "            if option == '1':\n",
    "                print('Nitro Engaged')\n",
    "            elif option == '2':\n",
    "                print('Nitro Disengaged')\n",
    "    def stop(self):\n",
    "            print(f'{self.Model} {self.Brand} has stopped Game over !!!!!!!!!!!!!!!!')\n",
    "car1 = car_simulation_game('Lamborghini','Mercilado','Black',2020,351)\n",
    "print(car1.start())\n",
    "print(car1.gear())\n",
    "print(car1.nitro())\n",
    "print(car1.stop())"
   ]
  },
  {
   "cell_type": "code",
   "execution_count": 8,
   "metadata": {},
   "outputs": [
    {
     "name": "stdout",
     "output_type": "stream",
     "text": [
      "ML Mercedez has started\n",
      "None\n",
      "please put your gear2\n",
      "Gear has been changed to 2\n",
      "None\n",
      "please choose enter 1 to engage your nitro or 2 to disengage your nitro1\n",
      "Nitro Engaged\n",
      "None\n",
      "ML Mercedez has stopped Game over !!!!!!!!!!!!!!!!\n",
      "None\n"
     ]
    }
   ],
   "source": [
    "class F12(car_simulation_game):\n",
    "    def openroof(self):\n",
    "        option= input('1 to open roof or 2 to close roof')\n",
    "        if option == '1':\n",
    "            print('Roof open')\n",
    "        elif option == '2':\n",
    "            print('Roof closed')\n",
    "car2 = F12('Mercedez', 'ML','Gray',2022,400)\n",
    "print(car2.start())\n",
    "print(car2.gear())\n",
    "print(car2.nitro())\n",
    "print(car2.stop())"
   ]
  },
  {
   "cell_type": "code",
   "execution_count": 9,
   "metadata": {},
   "outputs": [
    {
     "name": "stdout",
     "output_type": "stream",
     "text": [
      "1 to open roof or 2 to close roof2\n",
      "Roof closed\n"
     ]
    }
   ],
   "source": [
    "car2.openroof()"
   ]
  },
  {
   "cell_type": "code",
   "execution_count": 18,
   "metadata": {},
   "outputs": [
    {
     "name": "stdout",
     "output_type": "stream",
     "text": [
      "press 1 to jump, or press 2 to roll under1\n",
      "Jump obstacle\n",
      "None\n",
      "press low for normal jump.or press high for power jumplow\n",
      "jump normal selected\n",
      "None\n",
      "press K to kick small obstacle,or press P to punch large obstaclep\n",
      "None\n",
      "press R to move right if obstacle is stronger on the left,or press L to move left if obstacle is stronger on the rightR\n",
      "move right\n",
      "None\n"
     ]
    }
   ],
   "source": [
    "class Sonic:\n",
    "    def __init__(self,Name, Color,Char1,Char2,Char3): #Char for characteristics\n",
    "        self.Name =Name\n",
    "        self.Color = Color\n",
    "        self.Char1= Char1\n",
    "        self.Char2= Char2\n",
    "        self.Char3= Char3\n",
    "        \n",
    "    def obstacle(self):\n",
    "        option= input('press 1 to jump, or press 2 to roll under')\n",
    "        if option  == '1':\n",
    "            print('Jump obstacle')\n",
    "        elif option == '2':\n",
    "            print('Roll under obstacle')\n",
    "    def obstacle2(self):\n",
    "        option = input('press low for normal jump.or press high for power jump')\n",
    "        if option == 'low':\n",
    "            print('jump normal selected')\n",
    "        elif option == 'high':\n",
    "            print('power jump selected')\n",
    "    def obstacle3(self):\n",
    "        option = input('press K to kick small obstacle,or press P to punch large obstacle')\n",
    "        if option == 'K':\n",
    "            print('small obstacle kicked')\n",
    "        elif option == 'P':\n",
    "            print('Punch Obstacle')\n",
    "    def obstacle4(self):\n",
    "        option = input('press R to move right if obstacle is stronger on the left,or press L to move left if obstacle is stronger on the right')\n",
    "        if option == 'R':\n",
    "            print('move right')\n",
    "        elif option == 'L':\n",
    "            print('move left')\n",
    "        else:\n",
    "            print('Go straight')\n",
    "            \n",
    "player1 = Sonic('Knockles', 'Yellow','short','Fast','Talkative')\n",
    "print(player1.obstacle())\n",
    "print(player1.obstacle2())\n",
    "print(player1.obstacle3())\n",
    "print(player1.obstacle4())"
   ]
  },
  {
   "cell_type": "code",
   "execution_count": null,
   "metadata": {},
   "outputs": [],
   "source": []
  }
 ],
 "metadata": {
  "kernelspec": {
   "display_name": "Python 3",
   "language": "python",
   "name": "python3"
  },
  "language_info": {
   "codemirror_mode": {
    "name": "ipython",
    "version": 3
   },
   "file_extension": ".py",
   "mimetype": "text/x-python",
   "name": "python",
   "nbconvert_exporter": "python",
   "pygments_lexer": "ipython3",
   "version": "3.8.5"
  }
 },
 "nbformat": 4,
 "nbformat_minor": 4
}
