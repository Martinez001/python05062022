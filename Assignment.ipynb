{
 "cells": [
  {
   "cell_type": "markdown",
   "metadata": {},
   "source": [
    "# DAY4 ASSIGNMENT"
   ]
  },
  {
   "cell_type": "markdown",
   "metadata": {},
   "source": [
    "## 1"
   ]
  },
  {
   "cell_type": "code",
   "execution_count": 7,
   "metadata": {},
   "outputs": [
    {
     "name": "stdout",
     "output_type": "stream",
     "text": [
      "Current date: 2022-05-14\n",
      "Current year: 2022\n",
      "Current month: 5\n",
      "Current day: 14\n",
      "Please enter your name Rex Aminu\n",
      "Employee Name: Rex Aminu\n",
      "Please enter your current net pay 40000\n",
      "Current Net Salary: $40000\n",
      "Please Enter your Year of Employment 2013\n",
      "Year of employemnt: 2013\n",
      "Your Years of Service is 9 years\n",
      "Congratulations, you are Eligible for Bonus\n",
      "Congratulations, your new Net Salary is $42000.0\n"
     ]
    }
   ],
   "source": [
    "#Importing date class from datetime module\n",
    "from datetime import date\n",
    "\n",
    "todays_date = date.today()\n",
    "\n",
    "#printing todays date\n",
    "print('Current date:', todays_date)\n",
    "\n",
    "#fetching current year, month, and day of today\n",
    "print('Current year:' , todays_date.year)\n",
    "print('Current month:' , todays_date.month)\n",
    "print('Current day:' , todays_date.day)\n",
    "\n",
    "#Requesting Staff Info\n",
    "Name = input('Please enter your name ')\n",
    "print(f'Employee Name: {Name}')\n",
    "\n",
    "Salary = int(input('Please enter your current net pay '))\n",
    "print(f'Current Net Salary: ${Salary}')\n",
    "\n",
    "Yoe = int(input('Please Enter your Year of Employment '))\n",
    "print(f'Year of employemnt: {Yoe}')\n",
    "\n",
    "#Calculations for 5% Bonus\n",
    "Bonus = Salary/100 * 5\n",
    "New_Net_Pay = Bonus + Salary\n",
    "\n",
    "#Criteria Check to Ensure conditions are met\n",
    "Yos = todays_date.year - Yoe\n",
    "print(f'Your Years of Service is {Yos} years')\n",
    "\n",
    "if Yos > 5:\n",
    "    print(f'Congratulations, you are Eligible for Bonus')\n",
    "    print(f'Congratulations, your new Net Salary is ${New_Net_Pay}')\n",
    "else:\n",
    "    print('Oops! You are not qualified for Bonus this time')\n"
   ]
  },
  {
   "cell_type": "markdown",
   "metadata": {},
   "source": [
    "## 2"
   ]
  },
  {
   "cell_type": "code",
   "execution_count": 1,
   "metadata": {},
   "outputs": [
    {
     "name": "stdout",
     "output_type": "stream",
     "text": [
      "Please enter your score: 70\n",
      "Adams Score is 70\n",
      "Please enter your score:90\n",
      "Ade_score is 90\n",
      "Ade Score 90 is greater than Adams score 70, thus Ade is the Winner\n"
     ]
    }
   ],
   "source": [
    "#Requesting Post UME Scores of Candidates for comparism\n",
    "Adam_score = int(input('Please enter your score: '))\n",
    "print(f'Adams Score is {Adam_score}')\n",
    "\n",
    "Ade_score = int(input('Please enter your score:'))\n",
    "print(f'Ade_score is {Ade_score}')\n",
    "\n",
    "#Expressing conditions\n",
    "if Adam_score > Ade_score:\n",
    "    print(f'Adams score {Adam_score} is greater than Ade score {Ade_score}, thus Adams is the winner')\n",
    "else:\n",
    "    print(f'Ade Score {Ade_score} is greater than Adams score {Adam_score}, thus Ade is the Winner')"
   ]
  },
  {
   "cell_type": "markdown",
   "metadata": {},
   "source": [
    "## 3"
   ]
  },
  {
   "cell_type": "code",
   "execution_count": 2,
   "metadata": {},
   "outputs": [
    {
     "name": "stdout",
     "output_type": "stream",
     "text": [
      "Please enter your age1: 40\n",
      "Please enter your age2: 30\n",
      "Please enter your age3: 45\n",
      "age3 is the oldest\n",
      "age2 is the youngest\n"
     ]
    }
   ],
   "source": [
    "#Requesting Age from staff\n",
    "age1 = int(input('Please enter your age1: '))\n",
    "age2 = int(input('Please enter your age2: '))\n",
    "age3 = int(input('Please enter your age3: '))\n",
    "\n",
    "#condition 1\n",
    "if age1 > age2 and age1 > age3:\n",
    "    print(f'age1 is the oldest')\n",
    "elif age2 > age1 and age2 > age3:\n",
    "    print(f'age2 is the oldest')\n",
    "elif age3 > age1 and age3 > age2:\n",
    "    print(f'age3 is the oldest')\n",
    "    \n",
    "#Condition 2\n",
    "if age1 < age2 and age1 < age3:\n",
    "    print(f'age1 is the youngest')\n",
    "elif age2 < age1 and age2 < age3:\n",
    "    print(f'age2 is the youngest')\n",
    "elif age3 < age1 and age3 < age2:\n",
    "    print(f'age3 is the youngest')\n",
    "    "
   ]
  },
  {
   "cell_type": "markdown",
   "metadata": {},
   "source": [
    "## 4"
   ]
  },
  {
   "cell_type": "code",
   "execution_count": 4,
   "metadata": {},
   "outputs": [
    {
     "name": "stdout",
     "output_type": "stream",
     "text": [
      "Please enter your full name: Ademola Adetokumbo\n",
      "Full Name: Ademola Adetokumbo\n",
      "Please enter the total number of classes held: 30\n",
      "Total number of classes held: 30\n",
      "Please enter the number of classes you attended: 24\n",
      "Number of classes attended: 24\n",
      "You are allowed to sit in exam\n"
     ]
    }
   ],
   "source": [
    "#Taking inputs from Student\n",
    "student_name = input('Please enter your full name: ')\n",
    "print(f'Full Name: {student_name}')\n",
    "total_class_held = int(input('Please enter the total number of classes held: '))\n",
    "print(f'Total number of classes held: {total_class_held}')\n",
    "class_attended = int(input('Please enter the number of classes you attended: '))\n",
    "print(f'Number of classes attended: {class_attended}')\n",
    "\n",
    "\n",
    "# Attendance percentage Calculations\n",
    "# Formula: \n",
    "# No. of days student is present / total number of days of attendance x 100\n",
    "\n",
    "per_class_atten = (class_attended / total_class_held) * 100\n",
    "\n",
    "#Criteria for exam eligibility is 75% class attendance\n",
    "\n",
    "if per_class_atten >= 75 and per_class_atten <= 100:\n",
    "    print(f'You are allowed to sit in exam')\n",
    "else:\n",
    "    print(f'You are not allowed to sit in exam')\n"
   ]
  },
  {
   "cell_type": "code",
   "execution_count": 8,
   "metadata": {},
   "outputs": [
    {
     "name": "stdout",
     "output_type": "stream",
     "text": [
      "Please enter your full name: Demian Akin\n",
      "Full Name: Demian Akin\n",
      "Please enter the total number of classes held: 30\n",
      "Total number of classes held: 30\n",
      "Please enter the number of classes you attended: 28\n",
      "Number of classes attended: 28\n",
      "You are allowed to sit in exam\n"
     ]
    }
   ],
   "source": [
    "## Taking inputs from Student\n",
    "student_name = input('Please enter your full name: ')\n",
    "print(f'Full Name: {student_name}')\n",
    "total_class_held = int(input('Please enter the total number of classes held: '))\n",
    "print(f'Total number of classes held: {total_class_held}')\n",
    "class_attended = int(input('Please enter the number of classes you attended: '))\n",
    "print(f'Number of classes attended: {class_attended}')\n",
    "\n",
    "\n",
    "# Attendance percentage Calculations\n",
    "# Formula: \n",
    "# No. of days student is present / total number of days of attendance x 100\n",
    "\n",
    "per_class_atten = (class_attended / total_class_held) * 100\n",
    "\n",
    "#Criteria for exam eligibility is 75% class attendance\n",
    "\n",
    "if per_class_atten >= 75 and per_class_atten <= 100:\n",
    "    print(f'You are allowed to sit in exam')\n",
    "else:\n",
    "    print(f'You are not allowed to sit in exam')"
   ]
  },
  {
   "cell_type": "markdown",
   "metadata": {},
   "source": [
    "## 5"
   ]
  },
  {
   "cell_type": "code",
   "execution_count": 9,
   "metadata": {},
   "outputs": [
    {
     "name": "stdout",
     "output_type": "stream",
     "text": [
      "Please enter your full name: Faith Asika\n",
      "Full Name: Faith Asika\n",
      "How old are you: 23\n",
      "23 years\n",
      "What is your Gender? M or F: F\n",
      "Gender: F\n",
      "Are you married? Y or N: Y\n",
      "Married?: Y\n",
      "You are assigned to work in URBAN AREAS\n",
      "Staff Age: 23 years\n"
     ]
    }
   ],
   "source": [
    "#defining variables\n",
    "F = 'F'\n",
    "M = 'M'\n",
    "Y = 'Y'\n",
    "N = 'N'\n",
    "\n",
    "#Collection of info from user\n",
    "staff_name = input('Please enter your full name: ')\n",
    "print(f'Full Name: {staff_name}')\n",
    "staff_age = int(input('How old are you: '))\n",
    "print(f'{staff_age} years')\n",
    "staff_sex = input('What is your Gender? M or F: ')\n",
    "print(f'Gender: {staff_sex}')\n",
    "staff_status = input('Are you married? Y or N: ')\n",
    "print(f'Married?: {staff_status}')\n",
    "\n",
    "#Conditions\n",
    "if staff_sex == F:\n",
    "    print(f'You are assigned to work in URBAN AREAS')\n",
    "if staff_sex == M and staff_age >= 20 and staff_age <=40:\n",
    "    print(f'You are assigned to work ANYWHERE')\n",
    "if staff_sex == M and staff_age >= 40 and staff_age <= 60:\n",
    "    print(f'You are assigned to work in URBAN AREAS ONLY')\n",
    "else:\n",
    "    print(f'Staff Age: {staff_age} years')"
   ]
  },
  {
   "cell_type": "code",
   "execution_count": 10,
   "metadata": {},
   "outputs": [
    {
     "name": "stdout",
     "output_type": "stream",
     "text": [
      "Please enter your full name: Emeka Nwagwu\n",
      "Full Name: Emeka Nwagwu\n",
      "How old are you: 30\n",
      "30 years\n",
      "What is your Gender? M or F: M\n",
      "Gender: M\n",
      "Are you married? Y or N: N\n",
      "Married?: N\n",
      "You are assigned to work ANYWHERE\n",
      "Staff Age: 30 years\n"
     ]
    }
   ],
   "source": [
    "#defining variables\n",
    "F = 'F'\n",
    "M = 'M'\n",
    "Y = 'Y'\n",
    "N = 'N'\n",
    "\n",
    "#Collection of info from user\n",
    "staff_name = input('Please enter your full name: ')\n",
    "print(f'Full Name: {staff_name}')\n",
    "staff_age = int(input('How old are you: '))\n",
    "print(f'{staff_age} years')\n",
    "staff_sex = input('What is your Gender? M or F: ')\n",
    "print(f'Gender: {staff_sex}')\n",
    "staff_status = input('Are you married? Y or N: ')\n",
    "print(f'Married?: {staff_status}')\n",
    "\n",
    "#Conditions\n",
    "if staff_sex == F:\n",
    "    print(f'You are assigned to work in URBAN AREAS')\n",
    "if staff_sex == M and staff_age >= 20 and staff_age <=40:\n",
    "    print(f'You are assigned to work ANYWHERE')\n",
    "if staff_sex == M and staff_age >= 40 and staff_age <= 60:\n",
    "    print(f'You are assigned to work in URBAN AREAS ONLY')\n",
    "else:\n",
    "    print(f'Staff Age: {staff_age} years')"
   ]
  },
  {
   "cell_type": "code",
   "execution_count": 11,
   "metadata": {},
   "outputs": [
    {
     "name": "stdout",
     "output_type": "stream",
     "text": [
      "Please enter your full name: John Amos\n",
      "Full Name: John Amos\n",
      "How old are you: 58\n",
      "58 years\n",
      "What is your Gender? M or F: M\n",
      "Gender: M\n",
      "Are you married? Y or N: Y\n",
      "Married?: Y\n",
      "You are assigned to work in URBAN AREAS ONLY\n"
     ]
    }
   ],
   "source": [
    "#defining variables\n",
    "F = 'F'\n",
    "M = 'M'\n",
    "Y = 'Y'\n",
    "N = 'N'\n",
    "\n",
    "#Collection of info from user\n",
    "staff_name = input('Please enter your full name: ')\n",
    "print(f'Full Name: {staff_name}')\n",
    "staff_age = int(input('How old are you: '))\n",
    "print(f'{staff_age} years')\n",
    "staff_sex = input('What is your Gender? M or F: ')\n",
    "print(f'Gender: {staff_sex}')\n",
    "staff_status = input('Are you married? Y or N: ')\n",
    "print(f'Married?: {staff_status}')\n",
    "\n",
    "#Conditions\n",
    "if staff_sex == F:\n",
    "    print(f'You are assigned to work in URBAN AREAS')\n",
    "if staff_sex == M and staff_age >= 20 and staff_age <=40:\n",
    "    print(f'You are assigned to work ANYWHERE')\n",
    "if staff_sex == M and staff_age >= 40 and staff_age <= 60:\n",
    "    print(f'You are assigned to work in URBAN AREAS ONLY')\n",
    "else:\n",
    "    print(f'Staff Age: {staff_age} years')"
   ]
  },
  {
   "cell_type": "code",
   "execution_count": 12,
   "metadata": {},
   "outputs": [
    {
     "name": "stdout",
     "output_type": "stream",
     "text": [
      "Please enter your full name: WIlson Acha\n",
      "Full Name: WIlson Acha\n",
      "How old are you: 65\n",
      "65 years\n",
      "What is your Gender? M or F: M\n",
      "Gender: M\n",
      "Are you married? Y or N: Y\n",
      "Married?: Y\n",
      "Staff Age: 65 years\n"
     ]
    }
   ],
   "source": [
    "#defining variables\n",
    "F = 'F'\n",
    "M = 'M'\n",
    "Y = 'Y'\n",
    "N = 'N'\n",
    "\n",
    "#Collection of info from user\n",
    "staff_name = input('Please enter your full name: ')\n",
    "print(f'Full Name: {staff_name}')\n",
    "staff_age = int(input('How old are you: '))\n",
    "print(f'{staff_age} years')\n",
    "staff_sex = input('What is your Gender? M or F: ')\n",
    "print(f'Gender: {staff_sex}')\n",
    "staff_status = input('Are you married? Y or N: ')\n",
    "print(f'Married?: {staff_status}')\n",
    "\n",
    "#Conditions\n",
    "if staff_sex == F:\n",
    "    print(f'You are assigned to work in URBAN AREAS')\n",
    "if staff_sex == M and staff_age >= 20 and staff_age <=40:\n",
    "    print(f'You are assigned to work ANYWHERE')\n",
    "if staff_sex == M and staff_age >= 40 and staff_age <= 60:\n",
    "    print(f'You are assigned to work in URBAN AREAS ONLY')\n",
    "else:\n",
    "    print(f'Staff Age: {staff_age} years')"
   ]
  },
  {
   "cell_type": "markdown",
   "metadata": {},
   "source": [
    "# DAY1 ASSIGNMENT"
   ]
  },
  {
   "cell_type": "markdown",
   "metadata": {},
   "source": [
    "## 1"
   ]
  },
  {
   "cell_type": "code",
   "execution_count": 1,
   "metadata": {},
   "outputs": [
    {
     "name": "stdout",
     "output_type": "stream",
     "text": [
      "MY NAME IS JAMES\n"
     ]
    }
   ],
   "source": [
    "print('MY NAME IS JAMES')"
   ]
  },
  {
   "cell_type": "markdown",
   "metadata": {},
   "source": [
    "## 2"
   ]
  },
  {
   "cell_type": "code",
   "execution_count": 11,
   "metadata": {},
   "outputs": [
    {
     "name": "stdout",
     "output_type": "stream",
     "text": [
      "I am from a well-known village with good culture in kogi state\n"
     ]
    }
   ],
   "source": [
    "state = 'I am from a well-known village with good culture in kogi state'\n",
    "print(state)"
   ]
  },
  {
   "cell_type": "markdown",
   "metadata": {},
   "source": [
    "## 3"
   ]
  },
  {
   "cell_type": "code",
   "execution_count": 20,
   "metadata": {},
   "outputs": [
    {
     "name": "stdout",
     "output_type": "stream",
     "text": [
      "Twinkle twinkle little star, \n",
      "how i wonder what you are, \n",
      "up above the wall so high, \n",
      "like a diamond in the star, \n",
      "twinkle twinkle little star, \n",
      "how i wonder what you are.\n"
     ]
    }
   ],
   "source": [
    "poem =  (\"Twinkle twinkle little star, \\n\" \n",
    "        \"how i wonder what you are, \\n\"\n",
    "        \"up above the wall so high, \\n\"\n",
    "        \"like a diamond in the star, \\n\"\n",
    "        \"twinkle twinkle little star, \\n\"\n",
    "        \"how i wonder what you are.\")\n",
    "print(poem)"
   ]
  },
  {
   "cell_type": "code",
   "execution_count": 24,
   "metadata": {},
   "outputs": [
    {
     "name": "stdout",
     "output_type": "stream",
     "text": [
      "Twinkle twinkle little star, \n",
      "        how i wonder what you are,\n",
      "        up above the wall so high,\n",
      "        like a diamond in the star,\n",
      "        twinkle twinkle little star,\n",
      "        how i wonder what you are.\n"
     ]
    }
   ],
   "source": [
    "poem1 = \"\"\"Twinkle twinkle little star, \n",
    "        how i wonder what you are,\n",
    "        up above the wall so high,\n",
    "        like a diamond in the star,\n",
    "        twinkle twinkle little star,\n",
    "        how i wonder what you are.\"\"\"\n",
    "print(poem1)"
   ]
  },
  {
   "cell_type": "code",
   "execution_count": null,
   "metadata": {},
   "outputs": [],
   "source": []
  }
 ],
 "metadata": {
  "kernelspec": {
   "display_name": "Python 3",
   "language": "python",
   "name": "python3"
  },
  "language_info": {
   "codemirror_mode": {
    "name": "ipython",
    "version": 3
   },
   "file_extension": ".py",
   "mimetype": "text/x-python",
   "name": "python",
   "nbconvert_exporter": "python",
   "pygments_lexer": "ipython3",
   "version": "3.8.5"
  }
 },
 "nbformat": 4,
 "nbformat_minor": 4
}
