{
 "cells": [
  {
   "cell_type": "code",
   "execution_count": 9,
   "metadata": {},
   "outputs": [],
   "source": [
    "import mysql.connector\n"
   ]
  },
  {
   "cell_type": "code",
   "execution_count": 12,
   "metadata": {},
   "outputs": [
    {
     "name": "stdout",
     "output_type": "stream",
     "text": [
      "('information_schema',)\n",
      "('jonathan',)\n",
      "('mysql',)\n",
      "('performance_schema',)\n",
      "('sakila',)\n",
      "('school_management_system',)\n",
      "('sys',)\n",
      "('techbros',)\n",
      "('world',)\n"
     ]
    }
   ],
   "source": [
    "mydb = mysql.connector.connect(\n",
    "     host = 'localhost',\n",
    "     user = 'root',\n",
    "     password = 'Macy4acy'\n",
    ")\n",
    "    \n",
    "mycursor = mydb.cursor()\n",
    "mycursor.execute('SHOW DATABASES')\n",
    "for x in mycursor:\n",
    "    print(x)\n"
   ]
  },
  {
   "cell_type": "code",
   "execution_count": 15,
   "metadata": {},
   "outputs": [
    {
     "name": "stdout",
     "output_type": "stream",
     "text": [
      "('studentsperformance',)\n"
     ]
    }
   ],
   "source": [
    "mydb = mysql.connector.connect(\n",
    "     host = 'localhost',\n",
    "     user = 'root',\n",
    "     password = 'Macy4acy',\n",
    "     database = 'school_management_system'\n",
    ")\n",
    "    \n",
    "mycursor = mydb.cursor()\n",
    "mycursor.execute('SHOW TABLES')\n",
    "for x in mycursor:\n",
    "    print(x)"
   ]
  },
  {
   "cell_type": "code",
   "execution_count": 17,
   "metadata": {},
   "outputs": [
    {
     "ename": "ProgrammingError",
     "evalue": "1050 (42S01): Table 'GROUP_A_DATA' already exists",
     "output_type": "error",
     "traceback": [
      "\u001b[1;31m---------------------------------------------------------------------------\u001b[0m",
      "\u001b[1;31mMySQLInterfaceError\u001b[0m                       Traceback (most recent call last)",
      "\u001b[1;32m~\\anaconda3\\lib\\site-packages\\mysql\\connector\\connection_cext.py\u001b[0m in \u001b[0;36mcmd_query\u001b[1;34m(self, query, raw, buffered, raw_as_string)\u001b[0m\n\u001b[0;32m    534\u001b[0m                 \u001b[0mquery\u001b[0m \u001b[1;33m=\u001b[0m \u001b[0mquery\u001b[0m\u001b[1;33m.\u001b[0m\u001b[0mencode\u001b[0m\u001b[1;33m(\u001b[0m\u001b[1;34m'utf-8'\u001b[0m\u001b[1;33m)\u001b[0m\u001b[1;33m\u001b[0m\u001b[1;33m\u001b[0m\u001b[0m\n\u001b[1;32m--> 535\u001b[1;33m             self._cmysql.query(query,\n\u001b[0m\u001b[0;32m    536\u001b[0m                                \u001b[0mraw\u001b[0m\u001b[1;33m=\u001b[0m\u001b[0mraw\u001b[0m\u001b[1;33m,\u001b[0m \u001b[0mbuffered\u001b[0m\u001b[1;33m=\u001b[0m\u001b[0mbuffered\u001b[0m\u001b[1;33m,\u001b[0m\u001b[1;33m\u001b[0m\u001b[1;33m\u001b[0m\u001b[0m\n",
      "\u001b[1;31mMySQLInterfaceError\u001b[0m: Table 'GROUP_A_DATA' already exists",
      "\nDuring handling of the above exception, another exception occurred:\n",
      "\u001b[1;31mProgrammingError\u001b[0m                          Traceback (most recent call last)",
      "\u001b[1;32m<ipython-input-17-80155ef66515>\u001b[0m in \u001b[0;36m<module>\u001b[1;34m\u001b[0m\n\u001b[0;32m      7\u001b[0m \u001b[1;33m\u001b[0m\u001b[0m\n\u001b[0;32m      8\u001b[0m \u001b[0mmycursor\u001b[0m \u001b[1;33m=\u001b[0m \u001b[0mmydb\u001b[0m\u001b[1;33m.\u001b[0m\u001b[0mcursor\u001b[0m\u001b[1;33m(\u001b[0m\u001b[1;33m)\u001b[0m\u001b[1;33m\u001b[0m\u001b[1;33m\u001b[0m\u001b[0m\n\u001b[1;32m----> 9\u001b[1;33m \u001b[0mmycursor\u001b[0m\u001b[1;33m.\u001b[0m\u001b[0mexecute\u001b[0m\u001b[1;33m(\u001b[0m\u001b[1;34m'CREATE TABLE GROUP_A_DATA SELECT * FROM studentsperformance WHERE race_ethnicity = \"group A\"'\u001b[0m\u001b[1;33m)\u001b[0m\u001b[1;33m\u001b[0m\u001b[1;33m\u001b[0m\u001b[0m\n\u001b[0m\u001b[0;32m     10\u001b[0m \u001b[0mmydb\u001b[0m\u001b[1;33m.\u001b[0m\u001b[0mcommit\u001b[0m\u001b[1;33m(\u001b[0m\u001b[1;33m)\u001b[0m\u001b[1;33m\u001b[0m\u001b[1;33m\u001b[0m\u001b[0m\n",
      "\u001b[1;32m~\\anaconda3\\lib\\site-packages\\mysql\\connector\\cursor_cext.py\u001b[0m in \u001b[0;36mexecute\u001b[1;34m(self, operation, params, multi)\u001b[0m\n\u001b[0;32m    267\u001b[0m \u001b[1;33m\u001b[0m\u001b[0m\n\u001b[0;32m    268\u001b[0m         \u001b[1;32mtry\u001b[0m\u001b[1;33m:\u001b[0m\u001b[1;33m\u001b[0m\u001b[1;33m\u001b[0m\u001b[0m\n\u001b[1;32m--> 269\u001b[1;33m             result = self._cnx.cmd_query(stmt, raw=self._raw,\n\u001b[0m\u001b[0;32m    270\u001b[0m                                          \u001b[0mbuffered\u001b[0m\u001b[1;33m=\u001b[0m\u001b[0mself\u001b[0m\u001b[1;33m.\u001b[0m\u001b[0m_buffered\u001b[0m\u001b[1;33m,\u001b[0m\u001b[1;33m\u001b[0m\u001b[1;33m\u001b[0m\u001b[0m\n\u001b[0;32m    271\u001b[0m                                          raw_as_string=self._raw_as_string)\n",
      "\u001b[1;32m~\\anaconda3\\lib\\site-packages\\mysql\\connector\\connection_cext.py\u001b[0m in \u001b[0;36mcmd_query\u001b[1;34m(self, query, raw, buffered, raw_as_string)\u001b[0m\n\u001b[0;32m    538\u001b[0m                                query_attrs=self._query_attrs)\n\u001b[0;32m    539\u001b[0m         \u001b[1;32mexcept\u001b[0m \u001b[0mMySQLInterfaceError\u001b[0m \u001b[1;32mas\u001b[0m \u001b[0mexc\u001b[0m\u001b[1;33m:\u001b[0m\u001b[1;33m\u001b[0m\u001b[1;33m\u001b[0m\u001b[0m\n\u001b[1;32m--> 540\u001b[1;33m             raise errors.get_mysql_exception(exc.errno, msg=exc.msg,\n\u001b[0m\u001b[0;32m    541\u001b[0m                                              sqlstate=exc.sqlstate)\n\u001b[0;32m    542\u001b[0m         \u001b[1;32mexcept\u001b[0m \u001b[0mAttributeError\u001b[0m\u001b[1;33m:\u001b[0m\u001b[1;33m\u001b[0m\u001b[1;33m\u001b[0m\u001b[0m\n",
      "\u001b[1;31mProgrammingError\u001b[0m: 1050 (42S01): Table 'GROUP_A_DATA' already exists"
     ]
    }
   ],
   "source": [
    "mydb = mysql.connector.connect(\n",
    "     host = 'localhost',\n",
    "     user = 'root',\n",
    "     password = 'Macy4acy',\n",
    "     database = 'school_management_system'\n",
    ")\n",
    "    \n",
    "mycursor = mydb.cursor()\n",
    "mycursor.execute('CREATE TABLE GROUP_A_DATA SELECT * FROM studentsperformance WHERE race_ethnicity = \"group A\"')\n",
    "mydb.commit()"
   ]
  },
  {
   "cell_type": "code",
   "execution_count": 26,
   "metadata": {},
   "outputs": [
    {
     "name": "stdout",
     "output_type": "stream",
     "text": [
      "(1000,)\n"
     ]
    }
   ],
   "source": [
    "mydb = mysql.connector.connect(\n",
    "     host = 'localhost',\n",
    "     user = 'root',\n",
    "     password = 'Macy4acy',\n",
    "     database = 'school_management_system'\n",
    ")\n",
    "    \n",
    "mycursor = mydb.cursor()\n",
    "mycursor.execute('SELECT COUNT(gender) FROM studentsperformance')\n",
    "for y in mycursor:\n",
    "    print(y)"
   ]
  },
  {
   "cell_type": "code",
   "execution_count": 27,
   "metadata": {},
   "outputs": [
    {
     "name": "stdout",
     "output_type": "stream",
     "text": [
      "(135,)\n"
     ]
    }
   ],
   "source": [
    "mydb = mysql.connector.connect(\n",
    "     host = 'localhost',\n",
    "     user = 'root',\n",
    "     password = 'Macy4acy',\n",
    "     database = 'school_management_system'\n",
    ")\n",
    "    \n",
    "mycursor = mydb.cursor()\n",
    "mycursor.execute('SELECT COUNT(*) FROM studentsperformance WHERE math_score < 50')\n",
    "for y in mycursor:\n",
    "    print(y)"
   ]
  },
  {
   "cell_type": "code",
   "execution_count": 29,
   "metadata": {},
   "outputs": [
    {
     "name": "stdout",
     "output_type": "stream",
     "text": [
      "(81,)\n"
     ]
    }
   ],
   "source": [
    "mydb = mysql.connector.connect(\n",
    "     host = 'localhost',\n",
    "     user = 'root',\n",
    "     password = 'Macy4acy',\n",
    "     database = 'school_management_system'\n",
    ")\n",
    "    \n",
    "mycursor = mydb.cursor()\n",
    "mycursor.execute('SELECT COUNT(DISTINCT math_score) FROM studentsperformance')\n",
    "for y in mycursor:\n",
    "    print(y)"
   ]
  },
  {
   "cell_type": "code",
   "execution_count": 30,
   "metadata": {},
   "outputs": [
    {
     "name": "stdout",
     "output_type": "stream",
     "text": [
      "(Decimal('5485'),)\n"
     ]
    }
   ],
   "source": [
    "mydb = mysql.connector.connect(\n",
    "     host = 'localhost',\n",
    "     user = 'root',\n",
    "     password = 'Macy4acy',\n",
    "     database = 'school_management_system'\n",
    ")\n",
    "    \n",
    "mycursor = mydb.cursor()\n",
    "mycursor.execute('SELECT SUM(math_score) AS TOTAL_MATH_SCORE_GROUP_A FROM studentsperformance WHERE race_ethnicity = \"group A\"')\n",
    "for y in mycursor:\n",
    "    print(y)"
   ]
  },
  {
   "cell_type": "code",
   "execution_count": 31,
   "metadata": {},
   "outputs": [
    {
     "name": "stdout",
     "output_type": "stream",
     "text": [
      "(100,)\n"
     ]
    }
   ],
   "source": [
    "mydb = mysql.connector.connect(\n",
    "     host = 'localhost',\n",
    "     user = 'root',\n",
    "     password = 'Macy4acy',\n",
    "     database = 'school_management_system'\n",
    ")\n",
    "    \n",
    "mycursor = mydb.cursor()\n",
    "mycursor.execute('SELECT MAX(math_score) AS TOTAL_MATH_SCORE_GROUP_A FROM studentsperformance WHERE race_ethnicity = \"group A\"')\n",
    "for y in mycursor:\n",
    "    print(y)"
   ]
  },
  {
   "cell_type": "code",
   "execution_count": 32,
   "metadata": {},
   "outputs": [
    {
     "name": "stdout",
     "output_type": "stream",
     "text": [
      "(28,)\n"
     ]
    }
   ],
   "source": [
    "mydb = mysql.connector.connect(\n",
    "     host = 'localhost',\n",
    "     user = 'root',\n",
    "     password = 'Macy4acy',\n",
    "     database = 'school_management_system'\n",
    ")\n",
    "    \n",
    "mycursor = mydb.cursor()\n",
    "mycursor.execute('SELECT MIN(math_score) AS TOTAL_MATH_SCORE_GROUP_A FROM studentsperformance WHERE race_ethnicity = \"group A\"')\n",
    "for y in mycursor:\n",
    "    print(y)"
   ]
  },
  {
   "cell_type": "code",
   "execution_count": 36,
   "metadata": {},
   "outputs": [
    {
     "name": "stdout",
     "output_type": "stream",
     "text": [
      "(Decimal('61.6292'),)\n"
     ]
    }
   ],
   "source": [
    "mydb = mysql.connector.connect(\n",
    "     host = 'localhost',\n",
    "     user = 'root',\n",
    "     password = 'Macy4acy',\n",
    "     database = 'school_management_system'\n",
    ")\n",
    "    \n",
    "mycursor = mydb.cursor()\n",
    "mycursor.execute('SELECT AVG(math_score) AS TOTAL_MATH_SCORE_GROUP_A FROM studentsperformance WHERE race_ethnicity = \"group A\"')\n",
    "for y in mycursor:\n",
    "    print(y)"
   ]
  },
  {
   "cell_type": "code",
   "execution_count": 42,
   "metadata": {},
   "outputs": [
    {
     "name": "stdout",
     "output_type": "stream",
     "text": [
      "(1, 'Ikechukwu David', 42, 'Male', 'Expert')\n",
      "(2, 'John smith', 30, 'Male', 'Junior')\n",
      "(3, 'Uduak Grace', 30, 'Female', 'Intermediate')\n",
      "(4, 'Tech Bro', 31, 'Male', 'Expert')\n",
      "(5, 'King bill', 32, 'Male', 'Intermediate')\n",
      "(6, 'John Doe', 30, 'Male', 'Intermediate')\n",
      "(7, 'Grace Jill', 28, 'Female', 'Junior')\n",
      "(8, 'Frazer York', 26, 'Male', 'Junior')\n",
      "(9, 'Emma Stone', 45, 'Female', 'Expert')\n",
      "(10, 'Jeniffer Garner', 38, 'Female', 'Expert')\n",
      "(11, 'Miguel Gomez', 43, 'Male', 'Expert')\n",
      "(12, 'Sutter Hunk', 31, 'Male', 'Intermediate')\n",
      "(13, 'Grace Jill', 28, 'Female', 'Junior')\n",
      "(14, 'Frazer York', 26, 'Male', 'Junior')\n",
      "(15, 'Emma Stone', 45, 'Female', 'Expert')\n",
      "(16, 'Jeniffer Garner', 38, 'Female', 'Expert')\n",
      "(17, 'Miguel Gomez', 43, 'Male', 'Expert')\n",
      "(18, 'John Doe', 30, 'Male', 'Intermediate')\n",
      "(19, 'Grace Jill', 28, 'Female', 'Junior')\n",
      "(20, 'Frazer York', 26, 'Male', 'Junior')\n"
     ]
    }
   ],
   "source": [
    "mydb = mysql.connector.connect(\n",
    "     host = 'localhost',\n",
    "     user = 'root',\n",
    "     password = 'Macy4acy',\n",
    "     database = 'techbros'\n",
    ")\n",
    "mycursor = mydb.cursor()\n",
    "mycursor.execute('SELECT ID, Sname, Age, Gender, GROUP_CONCAT(Slevel) AS All_Level FROM PWDS GROUP BY ID')\n",
    "for y in mycursor:\n",
    "    print(y)"
   ]
  },
  {
   "cell_type": "code",
   "execution_count": 43,
   "metadata": {},
   "outputs": [
    {
     "name": "stdout",
     "output_type": "stream",
     "text": [
      "('Ikechukwu David',)\n",
      "('John smith',)\n"
     ]
    }
   ],
   "source": [
    "mydb = mysql.connector.connect(\n",
    "     host = 'localhost',\n",
    "     user = 'root',\n",
    "     password = 'Macy4acy',\n",
    "     database = 'techbros'\n",
    ")\n",
    "mycursor = mydb.cursor()\n",
    "mycursor.execute('SELECT Sname FROM PWDS LIMIT 2')\n",
    "for y in mycursor:\n",
    "    print(y)"
   ]
  },
  {
   "cell_type": "code",
   "execution_count": 45,
   "metadata": {},
   "outputs": [
    {
     "name": "stdout",
     "output_type": "stream",
     "text": [
      "('Frazer York',)\n"
     ]
    }
   ],
   "source": [
    "mydb = mysql.connector.connect(\n",
    "     host = 'localhost',\n",
    "     user = 'root',\n",
    "     password = 'Macy4acy',\n",
    "     database = 'techbros'\n",
    ")\n",
    "mycursor = mydb.cursor()\n",
    "mycursor.execute('SELECT Sname FROM PWDS ORDER BY ID DESC LIMIT 1')\n",
    "for y in mycursor:\n",
    "    print(y)"
   ]
  },
  {
   "cell_type": "code",
   "execution_count": null,
   "metadata": {},
   "outputs": [],
   "source": []
  }
 ],
 "metadata": {
  "kernelspec": {
   "display_name": "Python 3",
   "language": "python",
   "name": "python3"
  },
  "language_info": {
   "codemirror_mode": {
    "name": "ipython",
    "version": 3
   },
   "file_extension": ".py",
   "mimetype": "text/x-python",
   "name": "python",
   "nbconvert_exporter": "python",
   "pygments_lexer": "ipython3",
   "version": "3.8.5"
  }
 },
 "nbformat": 4,
 "nbformat_minor": 4
}
