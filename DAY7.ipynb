{
 "cells": [
  {
   "cell_type": "code",
   "execution_count": 1,
   "metadata": {},
   "outputs": [
    {
     "data": {
      "text/plain": [
       "3125"
      ]
     },
     "execution_count": 1,
     "metadata": {},
     "output_type": "execute_result"
    }
   ],
   "source": [
    "(lambda x: x**x)(5)"
   ]
  },
  {
   "cell_type": "markdown",
   "metadata": {},
   "source": [
    "# Exercise1\n",
    "# Write a lambda function to check if a given number is an even number or odd number"
   ]
  },
  {
   "cell_type": "code",
   "execution_count": 2,
   "metadata": {},
   "outputs": [
    {
     "name": "stdout",
     "output_type": "stream",
     "text": [
      "please provide a number78\n"
     ]
    },
    {
     "data": {
      "text/plain": [
       "'78 is an even number'"
      ]
     },
     "execution_count": 2,
     "metadata": {},
     "output_type": "execute_result"
    }
   ],
   "source": [
    "(lambda num:f'{num} is an even number' if num % 2 ==0 else f'{num} is an odd number')(int(input('please provide a number')))"
   ]
  },
  {
   "cell_type": "markdown",
   "metadata": {},
   "source": [
    "# Exercise 2\n",
    "# write a lambda function to check if a given password starts with an uppercase letter and end with any special character"
   ]
  },
  {
   "cell_type": "code",
   "execution_count": 12,
   "metadata": {},
   "outputs": [
    {
     "name": "stdout",
     "output_type": "stream",
     "text": [
      "please enter passwordPassword#\n"
     ]
    },
    {
     "data": {
      "text/plain": [
       "False"
      ]
     },
     "execution_count": 12,
     "metadata": {},
     "output_type": "execute_result"
    }
   ],
   "source": [
    "(lambda password:f'{password} starts wih an uppercase and ends with a special character' if password[0]==password.upper() and password[-1]=='#' or password[-1]=='@' else False)(input('please enter password'))"
   ]
  },
  {
   "cell_type": "markdown",
   "metadata": {},
   "source": [
    "## Read more on string module\n",
    "# Map and filter"
   ]
  },
  {
   "cell_type": "markdown",
   "metadata": {},
   "source": [
    "# map is used for modifying iterable objects(turple and list) also, it needs the lambda function to work"
   ]
  },
  {
   "cell_type": "markdown",
   "metadata": {},
   "source": [
    "## while filter is for selection( it also needs the lambda function)"
   ]
  },
  {
   "cell_type": "code",
   "execution_count": 13,
   "metadata": {},
   "outputs": [
    {
     "name": "stdout",
     "output_type": "stream",
     "text": [
      "['BINGO', 'CAPPY', 'WISKY', 'BANTY', 'HENRY']\n"
     ]
    }
   ],
   "source": [
    "dogs = ['bingo','cappy','wisky','banty','henry']\n",
    "updatelist=list(map(lambda x:str.upper(x),dogs))\n",
    "print(updatelist)"
   ]
  },
  {
   "cell_type": "code",
   "execution_count": 15,
   "metadata": {},
   "outputs": [
    {
     "name": "stdout",
     "output_type": "stream",
     "text": [
      "[55, 52, 70, 59, 57, 59, 66, 66, 47, 57, 53, 49, 64, 70, 58, 65, 53, 52, 59, 61, 51, 46, 56, 61, 52, 62, 54, 46, 60, 50, 70, 55, 56, 51, 53, 70, 65, 61, 59, 57, 59, 47, 62, 60, 65, 49, 61, 48, 69, 51]\n",
      "[7.416198487095663, 7.211102550927978, 8.366600265340756, 7.681145747868608, 7.54983443527075, 7.681145747868608, 8.12403840463596, 8.12403840463596, 6.855654600401044, 7.54983443527075, 7.280109889280518, 7.0, 8.0, 8.366600265340756, 7.615773105863909, 8.06225774829855, 7.280109889280518, 7.211102550927978, 7.681145747868608, 7.810249675906654, 7.14142842854285, 6.782329983125268, 7.483314773547883, 7.810249675906654, 7.211102550927978, 7.874007874011811, 7.3484692283495345, 6.782329983125268, 7.745966692414834, 7.0710678118654755, 8.366600265340756, 7.416198487095663, 7.483314773547883, 7.14142842854285, 7.280109889280518, 8.366600265340756, 8.06225774829855, 7.810249675906654, 7.681145747868608, 7.54983443527075, 7.681145747868608, 6.855654600401044, 7.874007874011811, 7.745966692414834, 8.06225774829855, 7.0, 7.810249675906654, 6.928203230275509, 8.306623862918075, 7.14142842854285]\n",
      "[55, 52, 47, 53, 49, 53, 52, 51, 46, 52, 54, 46, 50, 55, 51, 53, 47, 49, 48, 51]\n"
     ]
    }
   ],
   "source": [
    "import random as rn\n",
    "import math as m\n",
    "numbers = []\n",
    "counter = 1\n",
    "while counter <=50:\n",
    "    num = rn.randint(45,70)\n",
    "    numbers.append(num)\n",
    "    counter +=1\n",
    "\n",
    "print(numbers)\n",
    "numsqrt = list(map(lambda x:m.sqrt(x),numbers))\n",
    "numfilter = list(filter(lambda x: x <= 55,numbers))\n",
    "print(numsqrt)\n",
    "print(numfilter)\n"
   ]
  },
  {
   "cell_type": "code",
   "execution_count": null,
   "metadata": {},
   "outputs": [],
   "source": [
    "jr = 'j'\n",
    "p='p'\n",
    "li= []\n",
    "n=ran\n"
   ]
  },
  {
   "cell_type": "code",
   "execution_count": null,
   "metadata": {},
   "outputs": [],
   "source": [
    "Animals=[]"
   ]
  }
 ],
 "metadata": {
  "kernelspec": {
   "display_name": "Python 3",
   "language": "python",
   "name": "python3"
  },
  "language_info": {
   "codemirror_mode": {
    "name": "ipython",
    "version": 3
   },
   "file_extension": ".py",
   "mimetype": "text/x-python",
   "name": "python",
   "nbconvert_exporter": "python",
   "pygments_lexer": "ipython3",
   "version": "3.8.5"
  }
 },
 "nbformat": 4,
 "nbformat_minor": 4
}
