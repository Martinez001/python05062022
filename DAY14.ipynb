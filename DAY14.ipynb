{
 "cells": [
  {
   "cell_type": "code",
   "execution_count": 1,
   "metadata": {},
   "outputs": [
    {
     "name": "stdout",
     "output_type": "stream",
     "text": [
      "please provide the first number:2\n",
      "please provide the second number3\n",
      "5\n",
      "8\n",
      "End of program\n"
     ]
    }
   ],
   "source": [
    "try:\n",
    "    num1 = int(input('please provide the first number:'))\n",
    "    num2 = int(input('please provide the second number'))\n",
    "    print(num1+num2)\n",
    "except ValueError:\n",
    "        print('wrong value provided')\n",
    "except AttributeError:\n",
    "    print('Wrong function on integer attribute')\n",
    "except:\n",
    "    print('you have encountered one or more errors')\n",
    "else:\n",
    "    print(num1 ** num2)\n",
    "finally:\n",
    "    print('End of program')"
   ]
  },
  {
   "cell_type": "markdown",
   "metadata": {},
   "source": [
    "## Exercise\n",
    "## Using error handling, write a simple calculator given the user the liberty to:\n",
    "## choose which operation they want to perform handling the following errors\n",
    "## TypeError, ValueError, AttributeError,ZeroDivisionError, EOFError and all other errors\n",
    "## under the else block,write a condition to check if both numbers are even number or odd number\n",
    "## Or one is even and the other is odd\n",
    "## Under finally print a statement that says \"HEY IT's INTERESTING TO BE A PROGRAMMER END OF PROGRAM!!!!!\""
   ]
  },
  {
   "cell_type": "code",
   "execution_count": null,
   "metadata": {},
   "outputs": [],
   "source": [
    "try:\n",
    "    num1 = int(input('please provide the first number:'))\n",
    "    num2 = int(input('please provide the second number:'))\n",
    "    choice = input('''Choose f your operation\n",
    "+: Addition\n",
    "-: Subtraction\n",
    "/: Division\n",
    "*: Multiplication\n",
    "''')\n",
    "    if choice == '+':\n",
    "        Print(f'{num1} + {num2} = {num1 + num2}')\n",
    "    elif choice == '-':\n",
    "        Print(f'{num1} - {num2} = {num1 - num2}')\n",
    "    elif choice == '/':\n",
    "        Print(f'{num1} / {num2} = {num1 / num2}')\n",
    "    elif choice == '*':\n",
    "        Print(f'{num1} * {num2} = {num1 * num2}')\n",
    "except ValueError:\n",
    "        print('wrong value provided')\n",
    "except AttributeError:\n",
    "    print('Wrong function on integer attribute')\n",
    "except TypeError:\n",
    "        print('invalid data type operation')\n",
    "except EOFError:\n",
    "    print('One of the bracket is missing')\n",
    "except ZeroDivisionError:\n",
    "        print('A number can not be divisible by zero')\n",
    "except:\n",
    "    print('you have encountered one or more errors')\n",
    "else:\n",
    "    if num1 % 2 ==0 and num2 % ==0:\n",
    "        print('Both the value of num1 amd num2 are even numbers')\n",
    "    elif num1 % 2 !=0 and num2 % !=0:\n",
    "        print('Both the value of num1 amd num2 are odd numbers')\n",
    "    elif num1 % 2 !=0 and num2 % 2 ==0:\n",
    "        print('The value of num1 is an odd number while the value num2 is an Even number')\n",
    "    elif num1 % 2 ==0 and num2 % 2 !=0:\n",
    "        print('The value of num1 is an Even number while the value num2 is an odd number')\n",
    "finally:\n",
    "    print('HEY IT\\'s INTERESTING TO BE A PROGAMMER END OF PROGRAMM!!!!!!')\n"
   ]
  }
 ],
 "metadata": {
  "kernelspec": {
   "display_name": "Python 3",
   "language": "python",
   "name": "python3"
  },
  "language_info": {
   "codemirror_mode": {
    "name": "ipython",
    "version": 3
   },
   "file_extension": ".py",
   "mimetype": "text/x-python",
   "name": "python",
   "nbconvert_exporter": "python",
   "pygments_lexer": "ipython3",
   "version": "3.8.5"
  }
 },
 "nbformat": 4,
 "nbformat_minor": 4
}
