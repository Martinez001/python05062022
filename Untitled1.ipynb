{
 "cells": [
  {
   "cell_type": "code",
   "execution_count": 3,
   "metadata": {},
   "outputs": [
    {
     "name": "stdout",
     "output_type": "stream",
     "text": [
      "(46, 53, 45, 48, 55, 45, 49, 51, 51, 58, 50, 55, 53, 57, 50, 46, 55, 55, 47, 57, 55)\n"
     ]
    }
   ],
   "source": [
    "class_age = (46,53,45,48,55,45,49,51,51,58,50,55,53,57,50,46,55,55,47,57,55)\n",
    "print(class_age)"
   ]
  },
  {
   "cell_type": "code",
   "execution_count": 4,
   "metadata": {},
   "outputs": [
    {
     "data": {
      "text/plain": [
       "3"
      ]
     },
     "execution_count": 4,
     "metadata": {},
     "output_type": "execute_result"
    }
   ],
   "source": [
    "class_age.index(48)"
   ]
  },
  {
   "cell_type": "code",
   "execution_count": 8,
   "metadata": {},
   "outputs": [],
   "source": [
    "age = class_age"
   ]
  },
  {
   "cell_type": "code",
   "execution_count": 9,
   "metadata": {},
   "outputs": [
    {
     "name": "stdout",
     "output_type": "stream",
     "text": [
      "(46, 53, 45, 48, 55, 45, 49, 51, 51, 58, 50, 55, 53, 57, 50, 46, 55, 55, 47, 57, 55)\n"
     ]
    }
   ],
   "source": [
    "print(age)"
   ]
  },
  {
   "cell_type": "code",
   "execution_count": 12,
   "metadata": {},
   "outputs": [
    {
     "data": {
      "text/plain": [
       "9"
      ]
     },
     "execution_count": 12,
     "metadata": {},
     "output_type": "execute_result"
    }
   ],
   "source": [
    "age.index(58)"
   ]
  },
  {
   "cell_type": "code",
   "execution_count": 14,
   "metadata": {},
   "outputs": [
    {
     "name": "stdout",
     "output_type": "stream",
     "text": [
      "58\n"
     ]
    }
   ],
   "source": [
    "print(age[9])"
   ]
  },
  {
   "cell_type": "code",
   "execution_count": 15,
   "metadata": {},
   "outputs": [
    {
     "data": {
      "text/plain": [
       "5"
      ]
     },
     "execution_count": 15,
     "metadata": {},
     "output_type": "execute_result"
    }
   ],
   "source": [
    "age.count(55)"
   ]
  },
  {
   "cell_type": "code",
   "execution_count": 16,
   "metadata": {},
   "outputs": [
    {
     "name": "stdout",
     "output_type": "stream",
     "text": [
      "(46, 53, 45, 48, 55, 45, 49, 51, 51, 58, 50, 55, 53, 57, 50, 46, 55, 55, 47, 57, 55)\n"
     ]
    }
   ],
   "source": [
    "print(age)"
   ]
  },
  {
   "cell_type": "code",
   "execution_count": 29,
   "metadata": {},
   "outputs": [
    {
     "name": "stdout",
     "output_type": "stream",
     "text": [
      "49\n",
      "57\n",
      "57\n"
     ]
    }
   ],
   "source": [
    "print(age[6])\n",
    "print(age[13])\n",
    "print(age[19])"
   ]
  },
  {
   "cell_type": "code",
   "execution_count": 30,
   "metadata": {},
   "outputs": [
    {
     "data": {
      "text/plain": [
       "2"
      ]
     },
     "execution_count": 30,
     "metadata": {},
     "output_type": "execute_result"
    }
   ],
   "source": [
    "age.count(57)"
   ]
  },
  {
   "cell_type": "code",
   "execution_count": 31,
   "metadata": {},
   "outputs": [
    {
     "name": "stdout",
     "output_type": "stream",
     "text": [
      "2\n"
     ]
    }
   ],
   "source": [
    "print(age.count(57))"
   ]
  },
  {
   "cell_type": "code",
   "execution_count": 33,
   "metadata": {},
   "outputs": [
    {
     "name": "stdout",
     "output_type": "stream",
     "text": [
      "21\n"
     ]
    }
   ],
   "source": [
    "print(len(age))"
   ]
  },
  {
   "cell_type": "code",
   "execution_count": 40,
   "metadata": {},
   "outputs": [
    {
     "name": "stdout",
     "output_type": "stream",
     "text": [
      "6\n"
     ]
    }
   ],
   "source": [
    "print(age.index(49))"
   ]
  },
  {
   "cell_type": "code",
   "execution_count": 43,
   "metadata": {},
   "outputs": [
    {
     "name": "stdout",
     "output_type": "stream",
     "text": [
      "13\n"
     ]
    }
   ],
   "source": [
    "print(age.index(57))"
   ]
  },
  {
   "cell_type": "code",
   "execution_count": 44,
   "metadata": {},
   "outputs": [
    {
     "name": "stdout",
     "output_type": "stream",
     "text": [
      "(46, 53, 45, 48, 55, 45, 49, 51, 51, 58, 50, 55, 53, 57, 50, 46, 55, 55, 47, 57, 55)\n"
     ]
    }
   ],
   "source": [
    "print(age)"
   ]
  },
  {
   "cell_type": "code",
   "execution_count": 46,
   "metadata": {},
   "outputs": [
    {
     "name": "stdout",
     "output_type": "stream",
     "text": [
      "(55, 57, 47, 55, 55, 46, 50, 57, 53, 55, 50, 58, 51, 51, 49, 45, 55, 48, 45, 53, 46)\n"
     ]
    }
   ],
   "source": [
    "result = reversed(age)\n",
    "result = tuple(result)\n",
    "print(result)"
   ]
  },
  {
   "cell_type": "code",
   "execution_count": 47,
   "metadata": {},
   "outputs": [],
   "source": [
    "ages = [46, 53, 45, 48, 55, 45, 49, 51, 51, 58, 50, 55, 53, 57, 50, 46, 55, 55, 47, 57, 55]"
   ]
  },
  {
   "cell_type": "code",
   "execution_count": 48,
   "metadata": {},
   "outputs": [
    {
     "name": "stdout",
     "output_type": "stream",
     "text": [
      "<built-in method reverse of list object at 0x0000020FBD45A400>\n"
     ]
    }
   ],
   "source": [
    "print(ages.reverse)"
   ]
  },
  {
   "cell_type": "code",
   "execution_count": 52,
   "metadata": {},
   "outputs": [
    {
     "name": "stdout",
     "output_type": "stream",
     "text": [
      "[55, 57, 47, 55, 55, 46, 50, 57, 53, 55, 50, 58, 51, 51, 49, 45, 55, 48, 45, 53, 46]\n"
     ]
    }
   ],
   "source": [
    "ages.reverse()\n",
    "print(ages)"
   ]
  },
  {
   "cell_type": "code",
   "execution_count": 53,
   "metadata": {},
   "outputs": [
    {
     "name": "stdout",
     "output_type": "stream",
     "text": [
      "[55, 57, 47, 55, 55, 46, 50, 57, 53, 55, 50, 58, 51, 51, 49, 45, 55, 48, 45, 53, 46]\n"
     ]
    }
   ],
   "source": [
    "print(ages)"
   ]
  },
  {
   "cell_type": "code",
   "execution_count": 57,
   "metadata": {},
   "outputs": [
    {
     "name": "stdout",
     "output_type": "stream",
     "text": [
      "58\n"
     ]
    }
   ],
   "source": [
    "print(ages[11])"
   ]
  },
  {
   "cell_type": "code",
   "execution_count": 82,
   "metadata": {},
   "outputs": [
    {
     "name": "stdout",
     "output_type": "stream",
     "text": [
      "5\n"
     ]
    }
   ],
   "source": [
    "print(ages.count(55))"
   ]
  },
  {
   "cell_type": "code",
   "execution_count": 61,
   "metadata": {},
   "outputs": [],
   "source": [
    "ages.insert(15,'69')"
   ]
  },
  {
   "cell_type": "code",
   "execution_count": 65,
   "metadata": {},
   "outputs": [
    {
     "name": "stdout",
     "output_type": "stream",
     "text": [
      "[55, 57, 47, 55, 55, 46, 50, 57, 53, 55, 50, 58, 51, 51, 49, 69, 69, 45, 55, 48, 45, 53, 46]\n"
     ]
    }
   ],
   "source": [
    "#ages.remove('69')\n",
    "ages.insert(15,69)\n",
    "print(ages)"
   ]
  },
  {
   "cell_type": "code",
   "execution_count": 68,
   "metadata": {},
   "outputs": [
    {
     "name": "stdout",
     "output_type": "stream",
     "text": [
      "[55, 57, 47, 55, 55, 46, 50, 57, 53, 55, 50, 58, 51, 51, 49, 69, 69, 45, 55, 48, 45, 53, 46, 89, 85, 36, 95, 45, 78]\n"
     ]
    }
   ],
   "source": [
    "e = (89,85,36,95,45,78)\n",
    "ages.extend(e)\n",
    "print(ages)"
   ]
  },
  {
   "cell_type": "code",
   "execution_count": 70,
   "metadata": {},
   "outputs": [
    {
     "name": "stdout",
     "output_type": "stream",
     "text": [
      "[55, 57, 47, 55, 55, 46, 50, 57, 53, 55, 50, 58, 51, 51, 49, 69, 69, 45, 55, 48, 45, 53, 46, 89, 85, 36, 95, 45, 78]\n"
     ]
    }
   ],
   "source": [
    "ages.count\n",
    "print(ages)"
   ]
  },
  {
   "cell_type": "code",
   "execution_count": 72,
   "metadata": {},
   "outputs": [
    {
     "name": "stdout",
     "output_type": "stream",
     "text": [
      "29\n"
     ]
    }
   ],
   "source": [
    "print(len(ages))\n"
   ]
  },
  {
   "cell_type": "code",
   "execution_count": 73,
   "metadata": {},
   "outputs": [
    {
     "name": "stdout",
     "output_type": "stream",
     "text": [
      "(46, 53, 45, 48, 55, 45, 49, 51, 51, 58, 50, 55, 53, 57, 50, 46, 55, 55, 47, 57, 55)\n"
     ]
    }
   ],
   "source": [
    "print(age)"
   ]
  },
  {
   "cell_type": "code",
   "execution_count": 77,
   "metadata": {},
   "outputs": [
    {
     "name": "stdout",
     "output_type": "stream",
     "text": [
      "<reversed object at 0x0000020FBD55A580>\n",
      "(46, 53, 45, 48, 55, 45, 49, 51, 51, 58, 50, 55, 53, 57, 50, 46, 55, 55, 47, 57, 55)\n"
     ]
    }
   ],
   "source": [
    "r = age\n",
    "resulit = reversed(r)\n",
    "print(resulit)\n",
    "print(age)"
   ]
  },
  {
   "cell_type": "code",
   "execution_count": 79,
   "metadata": {},
   "outputs": [
    {
     "name": "stdout",
     "output_type": "stream",
     "text": [
      "(46, 53, 45, 48, 55, 45, 49, 51, 51, 58, 50, 55, 53, 57, 50, 46, 55, 55, 47, 57, 55)\n"
     ]
    }
   ],
   "source": [
    "resulit = reversed(age)\n",
    "resulit = tuple(resulit)\n",
    "print(age)"
   ]
  },
  {
   "cell_type": "code",
   "execution_count": 80,
   "metadata": {},
   "outputs": [
    {
     "name": "stdout",
     "output_type": "stream",
     "text": [
      "(46, 53, 45, 48, 55, 45, 49, 51, 51, 58, 50, 55, 53, 57, 50, 46, 55, 55, 47, 57, 55)\n"
     ]
    }
   ],
   "source": [
    "print(age)"
   ]
  },
  {
   "cell_type": "code",
   "execution_count": 81,
   "metadata": {},
   "outputs": [
    {
     "name": "stdout",
     "output_type": "stream",
     "text": [
      "(55, 57, 47, 55, 55, 46, 50, 57, 53, 55, 50, 58, 51, 51, 49, 45, 55, 48, 45, 53, 46)\n"
     ]
    }
   ],
   "source": [
    "e = reversed(age)\n",
    "e = tuple(e)\n",
    "print(e)"
   ]
  },
  {
   "cell_type": "code",
   "execution_count": null,
   "metadata": {},
   "outputs": [],
   "source": []
  }
 ],
 "metadata": {
  "kernelspec": {
   "display_name": "Python 3",
   "language": "python",
   "name": "python3"
  },
  "language_info": {
   "codemirror_mode": {
    "name": "ipython",
    "version": 3
   },
   "file_extension": ".py",
   "mimetype": "text/x-python",
   "name": "python",
   "nbconvert_exporter": "python",
   "pygments_lexer": "ipython3",
   "version": "3.8.5"
  }
 },
 "nbformat": 4,
 "nbformat_minor": 4
}
